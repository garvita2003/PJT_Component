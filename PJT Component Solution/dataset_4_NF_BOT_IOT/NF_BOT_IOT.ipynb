{
  "cells": [
    {
      "cell_type": "markdown",
      "metadata": {
        "id": "4a5Suk7-DKCY"
      },
      "source": [
        "### Import the libraries"
      ]
    },
    {
      "cell_type": "code",
      "execution_count": 41,
      "metadata": {
        "id": "JB_aPDkMO5au"
      },
      "outputs": [],
      "source": [
        "import numpy as np\n",
        "import pandas as pd\n",
        "from sklearn.model_selection import train_test_split\n",
        "from sklearn.linear_model import LogisticRegression\n",
        "from sklearn.metrics import confusion_matrix, classification_report, accuracy_score, precision_score, recall_score, f1_score\n",
        "import matplotlib.pyplot as plt\n",
        "from sklearn.naive_bayes import GaussianNB\n",
        "from sklearn.neural_network import MLPClassifier"
      ]
    },
    {
      "cell_type": "markdown",
      "metadata": {
        "id": "1mJR0DkGDa1e"
      },
      "source": [
        "### Load the dataset"
      ]
    },
    {
      "cell_type": "code",
      "execution_count": 42,
      "metadata": {
        "colab": {
          "base_uri": "https://localhost:8080/",
          "height": 226
        },
        "id": "xu-jJC2GO5aw",
        "outputId": "4624ad42-eac1-4cc8-9b0a-ac4c3bf66673"
      },
      "outputs": [
        {
          "output_type": "execute_result",
          "data": {
            "text/plain": [
              "    IPV4_SRC_ADDR  L4_SRC_PORT    IPV4_DST_ADDR  L4_DST_PORT  PROTOCOL  \\\n",
              "0   192.168.100.6        52670    192.168.100.1           53        17   \n",
              "1   192.168.100.6        49160  192.168.100.149         4444         6   \n",
              "2  192.168.100.46         3456    192.168.100.5           80        17   \n",
              "3   192.168.100.3           80   192.168.100.55         8080         6   \n",
              "4  192.168.100.46           80    192.168.100.5           80         6   \n",
              "\n",
              "   L7_PROTO   IN_BYTES  OUT_BYTES  IN_PKTS  OUT_PKTS  TCP_FLAGS  \\\n",
              "0     5.212         71        126        1         1          0   \n",
              "1     0.000  217753000     199100     4521      4049         24   \n",
              "2     0.000    8508021    8918372     9086      9086          0   \n",
              "3     7.000    8442138    9013406     9086      9086          0   \n",
              "4     7.000    8374706          0     9086         0          0   \n",
              "\n",
              "   FLOW_DURATION_MILLISECONDS  Label  Attack  \n",
              "0                     4294966      0  Benign  \n",
              "1                     4176249      1   Theft  \n",
              "2                     4175916      0  Benign  \n",
              "3                     4175916      0  Benign  \n",
              "4                     4175916      0  Benign  "
            ],
            "text/html": [
              "\n",
              "  <div id=\"df-f4494c09-ac1e-461e-8ad5-91bd553e5a0c\" class=\"colab-df-container\">\n",
              "    <div>\n",
              "<style scoped>\n",
              "    .dataframe tbody tr th:only-of-type {\n",
              "        vertical-align: middle;\n",
              "    }\n",
              "\n",
              "    .dataframe tbody tr th {\n",
              "        vertical-align: top;\n",
              "    }\n",
              "\n",
              "    .dataframe thead th {\n",
              "        text-align: right;\n",
              "    }\n",
              "</style>\n",
              "<table border=\"1\" class=\"dataframe\">\n",
              "  <thead>\n",
              "    <tr style=\"text-align: right;\">\n",
              "      <th></th>\n",
              "      <th>IPV4_SRC_ADDR</th>\n",
              "      <th>L4_SRC_PORT</th>\n",
              "      <th>IPV4_DST_ADDR</th>\n",
              "      <th>L4_DST_PORT</th>\n",
              "      <th>PROTOCOL</th>\n",
              "      <th>L7_PROTO</th>\n",
              "      <th>IN_BYTES</th>\n",
              "      <th>OUT_BYTES</th>\n",
              "      <th>IN_PKTS</th>\n",
              "      <th>OUT_PKTS</th>\n",
              "      <th>TCP_FLAGS</th>\n",
              "      <th>FLOW_DURATION_MILLISECONDS</th>\n",
              "      <th>Label</th>\n",
              "      <th>Attack</th>\n",
              "    </tr>\n",
              "  </thead>\n",
              "  <tbody>\n",
              "    <tr>\n",
              "      <th>0</th>\n",
              "      <td>192.168.100.6</td>\n",
              "      <td>52670</td>\n",
              "      <td>192.168.100.1</td>\n",
              "      <td>53</td>\n",
              "      <td>17</td>\n",
              "      <td>5.212</td>\n",
              "      <td>71</td>\n",
              "      <td>126</td>\n",
              "      <td>1</td>\n",
              "      <td>1</td>\n",
              "      <td>0</td>\n",
              "      <td>4294966</td>\n",
              "      <td>0</td>\n",
              "      <td>Benign</td>\n",
              "    </tr>\n",
              "    <tr>\n",
              "      <th>1</th>\n",
              "      <td>192.168.100.6</td>\n",
              "      <td>49160</td>\n",
              "      <td>192.168.100.149</td>\n",
              "      <td>4444</td>\n",
              "      <td>6</td>\n",
              "      <td>0.000</td>\n",
              "      <td>217753000</td>\n",
              "      <td>199100</td>\n",
              "      <td>4521</td>\n",
              "      <td>4049</td>\n",
              "      <td>24</td>\n",
              "      <td>4176249</td>\n",
              "      <td>1</td>\n",
              "      <td>Theft</td>\n",
              "    </tr>\n",
              "    <tr>\n",
              "      <th>2</th>\n",
              "      <td>192.168.100.46</td>\n",
              "      <td>3456</td>\n",
              "      <td>192.168.100.5</td>\n",
              "      <td>80</td>\n",
              "      <td>17</td>\n",
              "      <td>0.000</td>\n",
              "      <td>8508021</td>\n",
              "      <td>8918372</td>\n",
              "      <td>9086</td>\n",
              "      <td>9086</td>\n",
              "      <td>0</td>\n",
              "      <td>4175916</td>\n",
              "      <td>0</td>\n",
              "      <td>Benign</td>\n",
              "    </tr>\n",
              "    <tr>\n",
              "      <th>3</th>\n",
              "      <td>192.168.100.3</td>\n",
              "      <td>80</td>\n",
              "      <td>192.168.100.55</td>\n",
              "      <td>8080</td>\n",
              "      <td>6</td>\n",
              "      <td>7.000</td>\n",
              "      <td>8442138</td>\n",
              "      <td>9013406</td>\n",
              "      <td>9086</td>\n",
              "      <td>9086</td>\n",
              "      <td>0</td>\n",
              "      <td>4175916</td>\n",
              "      <td>0</td>\n",
              "      <td>Benign</td>\n",
              "    </tr>\n",
              "    <tr>\n",
              "      <th>4</th>\n",
              "      <td>192.168.100.46</td>\n",
              "      <td>80</td>\n",
              "      <td>192.168.100.5</td>\n",
              "      <td>80</td>\n",
              "      <td>6</td>\n",
              "      <td>7.000</td>\n",
              "      <td>8374706</td>\n",
              "      <td>0</td>\n",
              "      <td>9086</td>\n",
              "      <td>0</td>\n",
              "      <td>0</td>\n",
              "      <td>4175916</td>\n",
              "      <td>0</td>\n",
              "      <td>Benign</td>\n",
              "    </tr>\n",
              "  </tbody>\n",
              "</table>\n",
              "</div>\n",
              "    <div class=\"colab-df-buttons\">\n",
              "\n",
              "  <div class=\"colab-df-container\">\n",
              "    <button class=\"colab-df-convert\" onclick=\"convertToInteractive('df-f4494c09-ac1e-461e-8ad5-91bd553e5a0c')\"\n",
              "            title=\"Convert this dataframe to an interactive table.\"\n",
              "            style=\"display:none;\">\n",
              "\n",
              "  <svg xmlns=\"http://www.w3.org/2000/svg\" height=\"24px\" viewBox=\"0 -960 960 960\">\n",
              "    <path d=\"M120-120v-720h720v720H120Zm60-500h600v-160H180v160Zm220 220h160v-160H400v160Zm0 220h160v-160H400v160ZM180-400h160v-160H180v160Zm440 0h160v-160H620v160ZM180-180h160v-160H180v160Zm440 0h160v-160H620v160Z\"/>\n",
              "  </svg>\n",
              "    </button>\n",
              "\n",
              "  <style>\n",
              "    .colab-df-container {\n",
              "      display:flex;\n",
              "      gap: 12px;\n",
              "    }\n",
              "\n",
              "    .colab-df-convert {\n",
              "      background-color: #E8F0FE;\n",
              "      border: none;\n",
              "      border-radius: 50%;\n",
              "      cursor: pointer;\n",
              "      display: none;\n",
              "      fill: #1967D2;\n",
              "      height: 32px;\n",
              "      padding: 0 0 0 0;\n",
              "      width: 32px;\n",
              "    }\n",
              "\n",
              "    .colab-df-convert:hover {\n",
              "      background-color: #E2EBFA;\n",
              "      box-shadow: 0px 1px 2px rgba(60, 64, 67, 0.3), 0px 1px 3px 1px rgba(60, 64, 67, 0.15);\n",
              "      fill: #174EA6;\n",
              "    }\n",
              "\n",
              "    .colab-df-buttons div {\n",
              "      margin-bottom: 4px;\n",
              "    }\n",
              "\n",
              "    [theme=dark] .colab-df-convert {\n",
              "      background-color: #3B4455;\n",
              "      fill: #D2E3FC;\n",
              "    }\n",
              "\n",
              "    [theme=dark] .colab-df-convert:hover {\n",
              "      background-color: #434B5C;\n",
              "      box-shadow: 0px 1px 3px 1px rgba(0, 0, 0, 0.15);\n",
              "      filter: drop-shadow(0px 1px 2px rgba(0, 0, 0, 0.3));\n",
              "      fill: #FFFFFF;\n",
              "    }\n",
              "  </style>\n",
              "\n",
              "    <script>\n",
              "      const buttonEl =\n",
              "        document.querySelector('#df-f4494c09-ac1e-461e-8ad5-91bd553e5a0c button.colab-df-convert');\n",
              "      buttonEl.style.display =\n",
              "        google.colab.kernel.accessAllowed ? 'block' : 'none';\n",
              "\n",
              "      async function convertToInteractive(key) {\n",
              "        const element = document.querySelector('#df-f4494c09-ac1e-461e-8ad5-91bd553e5a0c');\n",
              "        const dataTable =\n",
              "          await google.colab.kernel.invokeFunction('convertToInteractive',\n",
              "                                                    [key], {});\n",
              "        if (!dataTable) return;\n",
              "\n",
              "        const docLinkHtml = 'Like what you see? Visit the ' +\n",
              "          '<a target=\"_blank\" href=https://colab.research.google.com/notebooks/data_table.ipynb>data table notebook</a>'\n",
              "          + ' to learn more about interactive tables.';\n",
              "        element.innerHTML = '';\n",
              "        dataTable['output_type'] = 'display_data';\n",
              "        await google.colab.output.renderOutput(dataTable, element);\n",
              "        const docLink = document.createElement('div');\n",
              "        docLink.innerHTML = docLinkHtml;\n",
              "        element.appendChild(docLink);\n",
              "      }\n",
              "    </script>\n",
              "  </div>\n",
              "\n",
              "\n",
              "<div id=\"df-1c6c5774-f61c-4e93-87c9-73323ac6ee57\">\n",
              "  <button class=\"colab-df-quickchart\" onclick=\"quickchart('df-1c6c5774-f61c-4e93-87c9-73323ac6ee57')\"\n",
              "            title=\"Suggest charts\"\n",
              "            style=\"display:none;\">\n",
              "\n",
              "<svg xmlns=\"http://www.w3.org/2000/svg\" height=\"24px\"viewBox=\"0 0 24 24\"\n",
              "     width=\"24px\">\n",
              "    <g>\n",
              "        <path d=\"M19 3H5c-1.1 0-2 .9-2 2v14c0 1.1.9 2 2 2h14c1.1 0 2-.9 2-2V5c0-1.1-.9-2-2-2zM9 17H7v-7h2v7zm4 0h-2V7h2v10zm4 0h-2v-4h2v4z\"/>\n",
              "    </g>\n",
              "</svg>\n",
              "  </button>\n",
              "\n",
              "<style>\n",
              "  .colab-df-quickchart {\n",
              "      --bg-color: #E8F0FE;\n",
              "      --fill-color: #1967D2;\n",
              "      --hover-bg-color: #E2EBFA;\n",
              "      --hover-fill-color: #174EA6;\n",
              "      --disabled-fill-color: #AAA;\n",
              "      --disabled-bg-color: #DDD;\n",
              "  }\n",
              "\n",
              "  [theme=dark] .colab-df-quickchart {\n",
              "      --bg-color: #3B4455;\n",
              "      --fill-color: #D2E3FC;\n",
              "      --hover-bg-color: #434B5C;\n",
              "      --hover-fill-color: #FFFFFF;\n",
              "      --disabled-bg-color: #3B4455;\n",
              "      --disabled-fill-color: #666;\n",
              "  }\n",
              "\n",
              "  .colab-df-quickchart {\n",
              "    background-color: var(--bg-color);\n",
              "    border: none;\n",
              "    border-radius: 50%;\n",
              "    cursor: pointer;\n",
              "    display: none;\n",
              "    fill: var(--fill-color);\n",
              "    height: 32px;\n",
              "    padding: 0;\n",
              "    width: 32px;\n",
              "  }\n",
              "\n",
              "  .colab-df-quickchart:hover {\n",
              "    background-color: var(--hover-bg-color);\n",
              "    box-shadow: 0 1px 2px rgba(60, 64, 67, 0.3), 0 1px 3px 1px rgba(60, 64, 67, 0.15);\n",
              "    fill: var(--button-hover-fill-color);\n",
              "  }\n",
              "\n",
              "  .colab-df-quickchart-complete:disabled,\n",
              "  .colab-df-quickchart-complete:disabled:hover {\n",
              "    background-color: var(--disabled-bg-color);\n",
              "    fill: var(--disabled-fill-color);\n",
              "    box-shadow: none;\n",
              "  }\n",
              "\n",
              "  .colab-df-spinner {\n",
              "    border: 2px solid var(--fill-color);\n",
              "    border-color: transparent;\n",
              "    border-bottom-color: var(--fill-color);\n",
              "    animation:\n",
              "      spin 1s steps(1) infinite;\n",
              "  }\n",
              "\n",
              "  @keyframes spin {\n",
              "    0% {\n",
              "      border-color: transparent;\n",
              "      border-bottom-color: var(--fill-color);\n",
              "      border-left-color: var(--fill-color);\n",
              "    }\n",
              "    20% {\n",
              "      border-color: transparent;\n",
              "      border-left-color: var(--fill-color);\n",
              "      border-top-color: var(--fill-color);\n",
              "    }\n",
              "    30% {\n",
              "      border-color: transparent;\n",
              "      border-left-color: var(--fill-color);\n",
              "      border-top-color: var(--fill-color);\n",
              "      border-right-color: var(--fill-color);\n",
              "    }\n",
              "    40% {\n",
              "      border-color: transparent;\n",
              "      border-right-color: var(--fill-color);\n",
              "      border-top-color: var(--fill-color);\n",
              "    }\n",
              "    60% {\n",
              "      border-color: transparent;\n",
              "      border-right-color: var(--fill-color);\n",
              "    }\n",
              "    80% {\n",
              "      border-color: transparent;\n",
              "      border-right-color: var(--fill-color);\n",
              "      border-bottom-color: var(--fill-color);\n",
              "    }\n",
              "    90% {\n",
              "      border-color: transparent;\n",
              "      border-bottom-color: var(--fill-color);\n",
              "    }\n",
              "  }\n",
              "</style>\n",
              "\n",
              "  <script>\n",
              "    async function quickchart(key) {\n",
              "      const quickchartButtonEl =\n",
              "        document.querySelector('#' + key + ' button');\n",
              "      quickchartButtonEl.disabled = true;  // To prevent multiple clicks.\n",
              "      quickchartButtonEl.classList.add('colab-df-spinner');\n",
              "      try {\n",
              "        const charts = await google.colab.kernel.invokeFunction(\n",
              "            'suggestCharts', [key], {});\n",
              "      } catch (error) {\n",
              "        console.error('Error during call to suggestCharts:', error);\n",
              "      }\n",
              "      quickchartButtonEl.classList.remove('colab-df-spinner');\n",
              "      quickchartButtonEl.classList.add('colab-df-quickchart-complete');\n",
              "    }\n",
              "    (() => {\n",
              "      let quickchartButtonEl =\n",
              "        document.querySelector('#df-1c6c5774-f61c-4e93-87c9-73323ac6ee57 button');\n",
              "      quickchartButtonEl.style.display =\n",
              "        google.colab.kernel.accessAllowed ? 'block' : 'none';\n",
              "    })();\n",
              "  </script>\n",
              "</div>\n",
              "\n",
              "    </div>\n",
              "  </div>\n"
            ],
            "application/vnd.google.colaboratory.intrinsic+json": {
              "type": "dataframe",
              "variable_name": "data"
            }
          },
          "metadata": {},
          "execution_count": 42
        }
      ],
      "source": [
        "data = pd.read_csv(\"/content/NF-BoT-IoT.csv\")\n",
        "data.head()"
      ]
    },
    {
      "cell_type": "code",
      "execution_count": 43,
      "metadata": {
        "colab": {
          "base_uri": "https://localhost:8080/"
        },
        "id": "SCUX5eB_O5ax",
        "outputId": "1b613998-0414-484e-a951-9e4ed7d7141f"
      },
      "outputs": [
        {
          "output_type": "execute_result",
          "data": {
            "text/plain": [
              "600100"
            ]
          },
          "metadata": {},
          "execution_count": 43
        }
      ],
      "source": [
        "len(data)"
      ]
    },
    {
      "cell_type": "code",
      "execution_count": 44,
      "metadata": {
        "colab": {
          "base_uri": "https://localhost:8080/"
        },
        "id": "7HnL_QLRO5ax",
        "outputId": "837438cb-fc14-4c68-8abe-8c516b9968be"
      },
      "outputs": [
        {
          "output_type": "execute_result",
          "data": {
            "text/plain": [
              "Index(['IPV4_SRC_ADDR', 'L4_SRC_PORT', 'IPV4_DST_ADDR', 'L4_DST_PORT',\n",
              "       'PROTOCOL', 'L7_PROTO', 'IN_BYTES', 'OUT_BYTES', 'IN_PKTS', 'OUT_PKTS',\n",
              "       'TCP_FLAGS', 'FLOW_DURATION_MILLISECONDS', 'Label', 'Attack'],\n",
              "      dtype='object')"
            ]
          },
          "metadata": {},
          "execution_count": 44
        }
      ],
      "source": [
        "data.columns"
      ]
    },
    {
      "cell_type": "code",
      "execution_count": 45,
      "metadata": {
        "id": "X69cQZHSKlUi"
      },
      "outputs": [],
      "source": [
        "data.dropna(subset=['Attack'], inplace=True)"
      ]
    },
    {
      "cell_type": "code",
      "execution_count": 46,
      "metadata": {
        "colab": {
          "base_uri": "https://localhost:8080/"
        },
        "id": "G111CZ__O5ax",
        "outputId": "963b30d8-c482-4a70-a309-abff12627037"
      },
      "outputs": [
        {
          "output_type": "execute_result",
          "data": {
            "text/plain": [
              "array(['Benign', 'Theft', 'DDoS', 'DoS', 'Reconnaissance'], dtype=object)"
            ]
          },
          "metadata": {},
          "execution_count": 46
        }
      ],
      "source": [
        "data['Attack'].unique()"
      ]
    },
    {
      "cell_type": "code",
      "execution_count": 47,
      "metadata": {
        "colab": {
          "base_uri": "https://localhost:8080/"
        },
        "id": "30wTN0eYO5ay",
        "outputId": "f9b17c92-f8eb-4b22-e294-dbb186d58ff8"
      },
      "outputs": [
        {
          "output_type": "execute_result",
          "data": {
            "text/plain": [
              "Attack\n",
              "Reconnaissance    470655\n",
              "DDoS               56844\n",
              "DoS                56833\n",
              "Benign             13859\n",
              "Theft               1909\n",
              "Name: count, dtype: int64"
            ]
          },
          "metadata": {},
          "execution_count": 47
        }
      ],
      "source": [
        "data['Attack'].value_counts()"
      ]
    },
    {
      "cell_type": "markdown",
      "metadata": {
        "id": "KlIQqZUjO5ay"
      },
      "source": [
        "## Without Pre-processing"
      ]
    },
    {
      "cell_type": "code",
      "execution_count": 48,
      "metadata": {
        "id": "vBHuQqaFO5az",
        "colab": {
          "base_uri": "https://localhost:8080/",
          "height": 206
        },
        "outputId": "b2d23b95-7c2b-4ec9-e84c-dd375622faad"
      },
      "outputs": [
        {
          "output_type": "execute_result",
          "data": {
            "text/plain": [
              "   L4_SRC_PORT  L4_DST_PORT  PROTOCOL  L7_PROTO   IN_BYTES  OUT_BYTES  \\\n",
              "0        52670           53        17     5.212         71        126   \n",
              "1        49160         4444         6     0.000  217753000     199100   \n",
              "2         3456           80        17     0.000    8508021    8918372   \n",
              "3           80         8080         6     7.000    8442138    9013406   \n",
              "4           80           80         6     7.000    8374706          0   \n",
              "\n",
              "   IN_PKTS  OUT_PKTS  TCP_FLAGS  FLOW_DURATION_MILLISECONDS  Label  \n",
              "0        1         1          0                     4294966      0  \n",
              "1     4521      4049         24                     4176249      1  \n",
              "2     9086      9086          0                     4175916      0  \n",
              "3     9086      9086          0                     4175916      0  \n",
              "4     9086         0          0                     4175916      0  "
            ],
            "text/html": [
              "\n",
              "  <div id=\"df-7dd137e2-45d2-4783-8c04-3945f302e0be\" class=\"colab-df-container\">\n",
              "    <div>\n",
              "<style scoped>\n",
              "    .dataframe tbody tr th:only-of-type {\n",
              "        vertical-align: middle;\n",
              "    }\n",
              "\n",
              "    .dataframe tbody tr th {\n",
              "        vertical-align: top;\n",
              "    }\n",
              "\n",
              "    .dataframe thead th {\n",
              "        text-align: right;\n",
              "    }\n",
              "</style>\n",
              "<table border=\"1\" class=\"dataframe\">\n",
              "  <thead>\n",
              "    <tr style=\"text-align: right;\">\n",
              "      <th></th>\n",
              "      <th>L4_SRC_PORT</th>\n",
              "      <th>L4_DST_PORT</th>\n",
              "      <th>PROTOCOL</th>\n",
              "      <th>L7_PROTO</th>\n",
              "      <th>IN_BYTES</th>\n",
              "      <th>OUT_BYTES</th>\n",
              "      <th>IN_PKTS</th>\n",
              "      <th>OUT_PKTS</th>\n",
              "      <th>TCP_FLAGS</th>\n",
              "      <th>FLOW_DURATION_MILLISECONDS</th>\n",
              "      <th>Label</th>\n",
              "    </tr>\n",
              "  </thead>\n",
              "  <tbody>\n",
              "    <tr>\n",
              "      <th>0</th>\n",
              "      <td>52670</td>\n",
              "      <td>53</td>\n",
              "      <td>17</td>\n",
              "      <td>5.212</td>\n",
              "      <td>71</td>\n",
              "      <td>126</td>\n",
              "      <td>1</td>\n",
              "      <td>1</td>\n",
              "      <td>0</td>\n",
              "      <td>4294966</td>\n",
              "      <td>0</td>\n",
              "    </tr>\n",
              "    <tr>\n",
              "      <th>1</th>\n",
              "      <td>49160</td>\n",
              "      <td>4444</td>\n",
              "      <td>6</td>\n",
              "      <td>0.000</td>\n",
              "      <td>217753000</td>\n",
              "      <td>199100</td>\n",
              "      <td>4521</td>\n",
              "      <td>4049</td>\n",
              "      <td>24</td>\n",
              "      <td>4176249</td>\n",
              "      <td>1</td>\n",
              "    </tr>\n",
              "    <tr>\n",
              "      <th>2</th>\n",
              "      <td>3456</td>\n",
              "      <td>80</td>\n",
              "      <td>17</td>\n",
              "      <td>0.000</td>\n",
              "      <td>8508021</td>\n",
              "      <td>8918372</td>\n",
              "      <td>9086</td>\n",
              "      <td>9086</td>\n",
              "      <td>0</td>\n",
              "      <td>4175916</td>\n",
              "      <td>0</td>\n",
              "    </tr>\n",
              "    <tr>\n",
              "      <th>3</th>\n",
              "      <td>80</td>\n",
              "      <td>8080</td>\n",
              "      <td>6</td>\n",
              "      <td>7.000</td>\n",
              "      <td>8442138</td>\n",
              "      <td>9013406</td>\n",
              "      <td>9086</td>\n",
              "      <td>9086</td>\n",
              "      <td>0</td>\n",
              "      <td>4175916</td>\n",
              "      <td>0</td>\n",
              "    </tr>\n",
              "    <tr>\n",
              "      <th>4</th>\n",
              "      <td>80</td>\n",
              "      <td>80</td>\n",
              "      <td>6</td>\n",
              "      <td>7.000</td>\n",
              "      <td>8374706</td>\n",
              "      <td>0</td>\n",
              "      <td>9086</td>\n",
              "      <td>0</td>\n",
              "      <td>0</td>\n",
              "      <td>4175916</td>\n",
              "      <td>0</td>\n",
              "    </tr>\n",
              "  </tbody>\n",
              "</table>\n",
              "</div>\n",
              "    <div class=\"colab-df-buttons\">\n",
              "\n",
              "  <div class=\"colab-df-container\">\n",
              "    <button class=\"colab-df-convert\" onclick=\"convertToInteractive('df-7dd137e2-45d2-4783-8c04-3945f302e0be')\"\n",
              "            title=\"Convert this dataframe to an interactive table.\"\n",
              "            style=\"display:none;\">\n",
              "\n",
              "  <svg xmlns=\"http://www.w3.org/2000/svg\" height=\"24px\" viewBox=\"0 -960 960 960\">\n",
              "    <path d=\"M120-120v-720h720v720H120Zm60-500h600v-160H180v160Zm220 220h160v-160H400v160Zm0 220h160v-160H400v160ZM180-400h160v-160H180v160Zm440 0h160v-160H620v160ZM180-180h160v-160H180v160Zm440 0h160v-160H620v160Z\"/>\n",
              "  </svg>\n",
              "    </button>\n",
              "\n",
              "  <style>\n",
              "    .colab-df-container {\n",
              "      display:flex;\n",
              "      gap: 12px;\n",
              "    }\n",
              "\n",
              "    .colab-df-convert {\n",
              "      background-color: #E8F0FE;\n",
              "      border: none;\n",
              "      border-radius: 50%;\n",
              "      cursor: pointer;\n",
              "      display: none;\n",
              "      fill: #1967D2;\n",
              "      height: 32px;\n",
              "      padding: 0 0 0 0;\n",
              "      width: 32px;\n",
              "    }\n",
              "\n",
              "    .colab-df-convert:hover {\n",
              "      background-color: #E2EBFA;\n",
              "      box-shadow: 0px 1px 2px rgba(60, 64, 67, 0.3), 0px 1px 3px 1px rgba(60, 64, 67, 0.15);\n",
              "      fill: #174EA6;\n",
              "    }\n",
              "\n",
              "    .colab-df-buttons div {\n",
              "      margin-bottom: 4px;\n",
              "    }\n",
              "\n",
              "    [theme=dark] .colab-df-convert {\n",
              "      background-color: #3B4455;\n",
              "      fill: #D2E3FC;\n",
              "    }\n",
              "\n",
              "    [theme=dark] .colab-df-convert:hover {\n",
              "      background-color: #434B5C;\n",
              "      box-shadow: 0px 1px 3px 1px rgba(0, 0, 0, 0.15);\n",
              "      filter: drop-shadow(0px 1px 2px rgba(0, 0, 0, 0.3));\n",
              "      fill: #FFFFFF;\n",
              "    }\n",
              "  </style>\n",
              "\n",
              "    <script>\n",
              "      const buttonEl =\n",
              "        document.querySelector('#df-7dd137e2-45d2-4783-8c04-3945f302e0be button.colab-df-convert');\n",
              "      buttonEl.style.display =\n",
              "        google.colab.kernel.accessAllowed ? 'block' : 'none';\n",
              "\n",
              "      async function convertToInteractive(key) {\n",
              "        const element = document.querySelector('#df-7dd137e2-45d2-4783-8c04-3945f302e0be');\n",
              "        const dataTable =\n",
              "          await google.colab.kernel.invokeFunction('convertToInteractive',\n",
              "                                                    [key], {});\n",
              "        if (!dataTable) return;\n",
              "\n",
              "        const docLinkHtml = 'Like what you see? Visit the ' +\n",
              "          '<a target=\"_blank\" href=https://colab.research.google.com/notebooks/data_table.ipynb>data table notebook</a>'\n",
              "          + ' to learn more about interactive tables.';\n",
              "        element.innerHTML = '';\n",
              "        dataTable['output_type'] = 'display_data';\n",
              "        await google.colab.output.renderOutput(dataTable, element);\n",
              "        const docLink = document.createElement('div');\n",
              "        docLink.innerHTML = docLinkHtml;\n",
              "        element.appendChild(docLink);\n",
              "      }\n",
              "    </script>\n",
              "  </div>\n",
              "\n",
              "\n",
              "<div id=\"df-f1739949-890e-4091-8e29-1edcf7a1f358\">\n",
              "  <button class=\"colab-df-quickchart\" onclick=\"quickchart('df-f1739949-890e-4091-8e29-1edcf7a1f358')\"\n",
              "            title=\"Suggest charts\"\n",
              "            style=\"display:none;\">\n",
              "\n",
              "<svg xmlns=\"http://www.w3.org/2000/svg\" height=\"24px\"viewBox=\"0 0 24 24\"\n",
              "     width=\"24px\">\n",
              "    <g>\n",
              "        <path d=\"M19 3H5c-1.1 0-2 .9-2 2v14c0 1.1.9 2 2 2h14c1.1 0 2-.9 2-2V5c0-1.1-.9-2-2-2zM9 17H7v-7h2v7zm4 0h-2V7h2v10zm4 0h-2v-4h2v4z\"/>\n",
              "    </g>\n",
              "</svg>\n",
              "  </button>\n",
              "\n",
              "<style>\n",
              "  .colab-df-quickchart {\n",
              "      --bg-color: #E8F0FE;\n",
              "      --fill-color: #1967D2;\n",
              "      --hover-bg-color: #E2EBFA;\n",
              "      --hover-fill-color: #174EA6;\n",
              "      --disabled-fill-color: #AAA;\n",
              "      --disabled-bg-color: #DDD;\n",
              "  }\n",
              "\n",
              "  [theme=dark] .colab-df-quickchart {\n",
              "      --bg-color: #3B4455;\n",
              "      --fill-color: #D2E3FC;\n",
              "      --hover-bg-color: #434B5C;\n",
              "      --hover-fill-color: #FFFFFF;\n",
              "      --disabled-bg-color: #3B4455;\n",
              "      --disabled-fill-color: #666;\n",
              "  }\n",
              "\n",
              "  .colab-df-quickchart {\n",
              "    background-color: var(--bg-color);\n",
              "    border: none;\n",
              "    border-radius: 50%;\n",
              "    cursor: pointer;\n",
              "    display: none;\n",
              "    fill: var(--fill-color);\n",
              "    height: 32px;\n",
              "    padding: 0;\n",
              "    width: 32px;\n",
              "  }\n",
              "\n",
              "  .colab-df-quickchart:hover {\n",
              "    background-color: var(--hover-bg-color);\n",
              "    box-shadow: 0 1px 2px rgba(60, 64, 67, 0.3), 0 1px 3px 1px rgba(60, 64, 67, 0.15);\n",
              "    fill: var(--button-hover-fill-color);\n",
              "  }\n",
              "\n",
              "  .colab-df-quickchart-complete:disabled,\n",
              "  .colab-df-quickchart-complete:disabled:hover {\n",
              "    background-color: var(--disabled-bg-color);\n",
              "    fill: var(--disabled-fill-color);\n",
              "    box-shadow: none;\n",
              "  }\n",
              "\n",
              "  .colab-df-spinner {\n",
              "    border: 2px solid var(--fill-color);\n",
              "    border-color: transparent;\n",
              "    border-bottom-color: var(--fill-color);\n",
              "    animation:\n",
              "      spin 1s steps(1) infinite;\n",
              "  }\n",
              "\n",
              "  @keyframes spin {\n",
              "    0% {\n",
              "      border-color: transparent;\n",
              "      border-bottom-color: var(--fill-color);\n",
              "      border-left-color: var(--fill-color);\n",
              "    }\n",
              "    20% {\n",
              "      border-color: transparent;\n",
              "      border-left-color: var(--fill-color);\n",
              "      border-top-color: var(--fill-color);\n",
              "    }\n",
              "    30% {\n",
              "      border-color: transparent;\n",
              "      border-left-color: var(--fill-color);\n",
              "      border-top-color: var(--fill-color);\n",
              "      border-right-color: var(--fill-color);\n",
              "    }\n",
              "    40% {\n",
              "      border-color: transparent;\n",
              "      border-right-color: var(--fill-color);\n",
              "      border-top-color: var(--fill-color);\n",
              "    }\n",
              "    60% {\n",
              "      border-color: transparent;\n",
              "      border-right-color: var(--fill-color);\n",
              "    }\n",
              "    80% {\n",
              "      border-color: transparent;\n",
              "      border-right-color: var(--fill-color);\n",
              "      border-bottom-color: var(--fill-color);\n",
              "    }\n",
              "    90% {\n",
              "      border-color: transparent;\n",
              "      border-bottom-color: var(--fill-color);\n",
              "    }\n",
              "  }\n",
              "</style>\n",
              "\n",
              "  <script>\n",
              "    async function quickchart(key) {\n",
              "      const quickchartButtonEl =\n",
              "        document.querySelector('#' + key + ' button');\n",
              "      quickchartButtonEl.disabled = true;  // To prevent multiple clicks.\n",
              "      quickchartButtonEl.classList.add('colab-df-spinner');\n",
              "      try {\n",
              "        const charts = await google.colab.kernel.invokeFunction(\n",
              "            'suggestCharts', [key], {});\n",
              "      } catch (error) {\n",
              "        console.error('Error during call to suggestCharts:', error);\n",
              "      }\n",
              "      quickchartButtonEl.classList.remove('colab-df-spinner');\n",
              "      quickchartButtonEl.classList.add('colab-df-quickchart-complete');\n",
              "    }\n",
              "    (() => {\n",
              "      let quickchartButtonEl =\n",
              "        document.querySelector('#df-f1739949-890e-4091-8e29-1edcf7a1f358 button');\n",
              "      quickchartButtonEl.style.display =\n",
              "        google.colab.kernel.accessAllowed ? 'block' : 'none';\n",
              "    })();\n",
              "  </script>\n",
              "</div>\n",
              "\n",
              "    </div>\n",
              "  </div>\n"
            ],
            "application/vnd.google.colaboratory.intrinsic+json": {
              "type": "dataframe",
              "variable_name": "X"
            }
          },
          "metadata": {},
          "execution_count": 48
        }
      ],
      "source": [
        "X = data.drop(['Attack', 'IPV4_SRC_ADDR', 'IPV4_DST_ADDR'], axis=1)\n",
        "y = data.loc[:, 'Attack']\n",
        "X.head()"
      ]
    },
    {
      "cell_type": "markdown",
      "metadata": {
        "id": "GmknO091Q139"
      },
      "source": [
        "### Model creation"
      ]
    },
    {
      "cell_type": "code",
      "execution_count": 49,
      "metadata": {
        "id": "igiV_zRaO5a0"
      },
      "outputs": [],
      "source": [
        "x_train, x_test, y_train, y_test = train_test_split(X, y, test_size=0.1)"
      ]
    },
    {
      "cell_type": "markdown",
      "source": [
        "### Different Model with Evalaution Metrics and Visualization"
      ],
      "metadata": {
        "id": "Q_K9oGodVtwE"
      }
    },
    {
      "cell_type": "code",
      "execution_count": 50,
      "metadata": {
        "colab": {
          "base_uri": "https://localhost:8080/"
        },
        "id": "5v0XKNgDO5a0",
        "outputId": "bb27feb2-b14b-48ba-e2ee-4d81a5d6c23c"
      },
      "outputs": [
        {
          "output_type": "stream",
          "name": "stderr",
          "text": [
            "/usr/local/lib/python3.10/dist-packages/sklearn/linear_model/_logistic.py:458: ConvergenceWarning: lbfgs failed to converge (status=1):\n",
            "STOP: TOTAL NO. of ITERATIONS REACHED LIMIT.\n",
            "\n",
            "Increase the number of iterations (max_iter) or scale the data as shown in:\n",
            "    https://scikit-learn.org/stable/modules/preprocessing.html\n",
            "Please also refer to the documentation for alternative solver options:\n",
            "    https://scikit-learn.org/stable/modules/linear_model.html#logistic-regression\n",
            "  n_iter_i = _check_optimize_result(\n"
          ]
        }
      ],
      "source": [
        "model=LogisticRegression(random_state=0)\n",
        "model.fit(x_train, y_train)\n",
        "y_pred = model.predict(x_train)"
      ]
    },
    {
      "cell_type": "code",
      "source": [
        "conf_matrix = confusion_matrix(model.predict(x_train), y_train)\n",
        "accuracy = accuracy_score(model.predict(x_train), y_train)\n",
        "precision = precision_score(model.predict(x_train), y_train, average='weighted')\n",
        "recall = recall_score(model.predict(x_train), y_train, average='weighted')\n",
        "f1 = f1_score(model.predict(x_train), y_train,average='weighted')\n",
        "# Print results\n",
        "print(\"Confusion Matrix:\")\n",
        "print(conf_matrix)\n",
        "print(\"\\nAccuracy:\", accuracy)\n",
        "print(\"Precision:\", precision)\n",
        "print(\"Recall:\", recall)\n",
        "print(\"F1 Score:\", f1)"
      ],
      "metadata": {
        "colab": {
          "base_uri": "https://localhost:8080/"
        },
        "id": "ghTgH8sHV4dT",
        "outputId": "d7d5e512-bdd0-4604-e240-67724b069b87"
      },
      "execution_count": 51,
      "outputs": [
        {
          "output_type": "stream",
          "name": "stdout",
          "text": [
            "Confusion Matrix:\n",
            "[[  1698    492    499    499    158]\n",
            " [     4   5981   5943   5961      0]\n",
            " [    12     31     31     33      0]\n",
            " [ 10825  44668  44572 417127   1544]\n",
            " [     4      0      0      0      8]]\n",
            "\n",
            "Accuracy: 0.7866188968505249\n",
            "Precision: 0.9504509863182112\n",
            "Recall: 0.7866188968505249\n",
            "F1 Score: 0.8573447627336959\n"
          ]
        }
      ]
    },
    {
      "cell_type": "code",
      "source": [
        "# Train the model\n",
        "model1 = GaussianNB().fit(x_train, y_train)\n",
        "# Make predictions\n",
        "y_pred = model1.predict(x_test)"
      ],
      "metadata": {
        "id": "BxSqnIM5WALY"
      },
      "execution_count": 52,
      "outputs": []
    },
    {
      "cell_type": "code",
      "source": [
        "# Evaluate the model\n",
        "conf_matrix = confusion_matrix(y_test, y_pred)\n",
        "accuracy1 = accuracy_score(y_test, y_pred)\n",
        "precision1 = precision_score(y_test, y_pred, average='weighted')\n",
        "recall1 = recall_score(y_test, y_pred, average='weighted')\n",
        "f11 = f1_score(y_test, y_pred, average='weighted')\n",
        "# Print results\n",
        "print(\"Confusion Matrix:\")\n",
        "print(conf_matrix)\n",
        "print(\"\\nClassification Report:\")\n",
        "print(classification_report(y_test, y_pred))\n",
        "print(\"\\nAccuracy:\", accuracy1)\n",
        "print(\"Precision:\", precision)\n",
        "print(\"Recall:\", recall)\n",
        "print(\"F1 Score:\", f1)"
      ],
      "metadata": {
        "colab": {
          "base_uri": "https://localhost:8080/"
        },
        "id": "DohZDmYgWG7j",
        "outputId": "f2fddc79-91e4-45c7-8a3c-86d4309cb514"
      },
      "execution_count": 53,
      "outputs": [
        {
          "output_type": "stream",
          "name": "stdout",
          "text": [
            "Confusion Matrix:\n",
            "[[  173    40    37  1053    13]\n",
            " [   20  5020     1   631     0]\n",
            " [   23  5165     1   599     0]\n",
            " [   45  3104   476 43410     0]\n",
            " [   15    54     0   128     2]]\n",
            "\n",
            "Classification Report:\n",
            "                precision    recall  f1-score   support\n",
            "\n",
            "        Benign       0.63      0.13      0.22      1316\n",
            "          DDoS       0.38      0.89      0.53      5672\n",
            "           DoS       0.00      0.00      0.00      5788\n",
            "Reconnaissance       0.95      0.92      0.93     47035\n",
            "         Theft       0.13      0.01      0.02       199\n",
            "\n",
            "      accuracy                           0.81     60010\n",
            "     macro avg       0.42      0.39      0.34     60010\n",
            "  weighted avg       0.79      0.81      0.79     60010\n",
            "\n",
            "\n",
            "Accuracy: 0.8099650058323613\n",
            "Precision: 0.9504509863182112\n",
            "Recall: 0.7866188968505249\n",
            "F1 Score: 0.8573447627336959\n"
          ]
        }
      ]
    },
    {
      "cell_type": "code",
      "source": [
        "# Initialize the classifier with random_state=0\n",
        "mlp1 = MLPClassifier(random_state=0)\n",
        "# Fit the classifier to the training data\n",
        "mlp1.fit(x_train, y_train)"
      ],
      "metadata": {
        "colab": {
          "base_uri": "https://localhost:8080/",
          "height": 74
        },
        "id": "QAn-3T2wWlyk",
        "outputId": "cdc2b5f2-1285-44c0-d946-ae963ab1dde7"
      },
      "execution_count": 54,
      "outputs": [
        {
          "output_type": "execute_result",
          "data": {
            "text/plain": [
              "MLPClassifier(random_state=0)"
            ],
            "text/html": [
              "<style>#sk-container-id-4 {color: black;background-color: white;}#sk-container-id-4 pre{padding: 0;}#sk-container-id-4 div.sk-toggleable {background-color: white;}#sk-container-id-4 label.sk-toggleable__label {cursor: pointer;display: block;width: 100%;margin-bottom: 0;padding: 0.3em;box-sizing: border-box;text-align: center;}#sk-container-id-4 label.sk-toggleable__label-arrow:before {content: \"▸\";float: left;margin-right: 0.25em;color: #696969;}#sk-container-id-4 label.sk-toggleable__label-arrow:hover:before {color: black;}#sk-container-id-4 div.sk-estimator:hover label.sk-toggleable__label-arrow:before {color: black;}#sk-container-id-4 div.sk-toggleable__content {max-height: 0;max-width: 0;overflow: hidden;text-align: left;background-color: #f0f8ff;}#sk-container-id-4 div.sk-toggleable__content pre {margin: 0.2em;color: black;border-radius: 0.25em;background-color: #f0f8ff;}#sk-container-id-4 input.sk-toggleable__control:checked~div.sk-toggleable__content {max-height: 200px;max-width: 100%;overflow: auto;}#sk-container-id-4 input.sk-toggleable__control:checked~label.sk-toggleable__label-arrow:before {content: \"▾\";}#sk-container-id-4 div.sk-estimator input.sk-toggleable__control:checked~label.sk-toggleable__label {background-color: #d4ebff;}#sk-container-id-4 div.sk-label input.sk-toggleable__control:checked~label.sk-toggleable__label {background-color: #d4ebff;}#sk-container-id-4 input.sk-hidden--visually {border: 0;clip: rect(1px 1px 1px 1px);clip: rect(1px, 1px, 1px, 1px);height: 1px;margin: -1px;overflow: hidden;padding: 0;position: absolute;width: 1px;}#sk-container-id-4 div.sk-estimator {font-family: monospace;background-color: #f0f8ff;border: 1px dotted black;border-radius: 0.25em;box-sizing: border-box;margin-bottom: 0.5em;}#sk-container-id-4 div.sk-estimator:hover {background-color: #d4ebff;}#sk-container-id-4 div.sk-parallel-item::after {content: \"\";width: 100%;border-bottom: 1px solid gray;flex-grow: 1;}#sk-container-id-4 div.sk-label:hover label.sk-toggleable__label {background-color: #d4ebff;}#sk-container-id-4 div.sk-serial::before {content: \"\";position: absolute;border-left: 1px solid gray;box-sizing: border-box;top: 0;bottom: 0;left: 50%;z-index: 0;}#sk-container-id-4 div.sk-serial {display: flex;flex-direction: column;align-items: center;background-color: white;padding-right: 0.2em;padding-left: 0.2em;position: relative;}#sk-container-id-4 div.sk-item {position: relative;z-index: 1;}#sk-container-id-4 div.sk-parallel {display: flex;align-items: stretch;justify-content: center;background-color: white;position: relative;}#sk-container-id-4 div.sk-item::before, #sk-container-id-4 div.sk-parallel-item::before {content: \"\";position: absolute;border-left: 1px solid gray;box-sizing: border-box;top: 0;bottom: 0;left: 50%;z-index: -1;}#sk-container-id-4 div.sk-parallel-item {display: flex;flex-direction: column;z-index: 1;position: relative;background-color: white;}#sk-container-id-4 div.sk-parallel-item:first-child::after {align-self: flex-end;width: 50%;}#sk-container-id-4 div.sk-parallel-item:last-child::after {align-self: flex-start;width: 50%;}#sk-container-id-4 div.sk-parallel-item:only-child::after {width: 0;}#sk-container-id-4 div.sk-dashed-wrapped {border: 1px dashed gray;margin: 0 0.4em 0.5em 0.4em;box-sizing: border-box;padding-bottom: 0.4em;background-color: white;}#sk-container-id-4 div.sk-label label {font-family: monospace;font-weight: bold;display: inline-block;line-height: 1.2em;}#sk-container-id-4 div.sk-label-container {text-align: center;}#sk-container-id-4 div.sk-container {/* jupyter's `normalize.less` sets `[hidden] { display: none; }` but bootstrap.min.css set `[hidden] { display: none !important; }` so we also need the `!important` here to be able to override the default hidden behavior on the sphinx rendered scikit-learn.org. See: https://github.com/scikit-learn/scikit-learn/issues/21755 */display: inline-block !important;position: relative;}#sk-container-id-4 div.sk-text-repr-fallback {display: none;}</style><div id=\"sk-container-id-4\" class=\"sk-top-container\"><div class=\"sk-text-repr-fallback\"><pre>MLPClassifier(random_state=0)</pre><b>In a Jupyter environment, please rerun this cell to show the HTML representation or trust the notebook. <br />On GitHub, the HTML representation is unable to render, please try loading this page with nbviewer.org.</b></div><div class=\"sk-container\" hidden><div class=\"sk-item\"><div class=\"sk-estimator sk-toggleable\"><input class=\"sk-toggleable__control sk-hidden--visually\" id=\"sk-estimator-id-4\" type=\"checkbox\" checked><label for=\"sk-estimator-id-4\" class=\"sk-toggleable__label sk-toggleable__label-arrow\">MLPClassifier</label><div class=\"sk-toggleable__content\"><pre>MLPClassifier(random_state=0)</pre></div></div></div></div></div>"
            ]
          },
          "metadata": {},
          "execution_count": 54
        }
      ]
    },
    {
      "cell_type": "code",
      "source": [
        "accuracy2 = accuracy_score(mlp1.predict(x_train), y_train)\n",
        "print(\"Accuracy:\",accuracy2)\n",
        "y_pred = mlp1.predict(x_test)\n",
        "precision2 = precision_score(y_test, y_pred, average='weighted')\n",
        "recall2 = recall_score(y_test, y_pred, average='weighted')\n",
        "f12 = f1_score(y_test, y_pred, average='weighted')\n",
        "print(\"Precision:\", precision2)\n",
        "print(\"Recall:\", recall2)\n",
        "print(\"F1-score:\", f12)"
      ],
      "metadata": {
        "colab": {
          "base_uri": "https://localhost:8080/"
        },
        "id": "LmSo1Vx7WSC4",
        "outputId": "3f86eb6d-cfce-451d-d2e6-d39638563548"
      },
      "execution_count": 57,
      "outputs": [
        {
          "output_type": "stream",
          "name": "stdout",
          "text": [
            "Accuracy: 0.7867522079653391\n"
          ]
        },
        {
          "output_type": "stream",
          "name": "stderr",
          "text": [
            "/usr/local/lib/python3.10/dist-packages/sklearn/metrics/_classification.py:1344: UndefinedMetricWarning: Precision is ill-defined and being set to 0.0 in labels with no predicted samples. Use `zero_division` parameter to control this behavior.\n",
            "  _warn_prf(average, modifier, msg_start, len(result))\n"
          ]
        },
        {
          "output_type": "stream",
          "name": "stdout",
          "text": [
            "Precision: 0.6447132688730239\n",
            "Recall: 0.785652391268122\n",
            "F1-score: 0.6932754298875611\n"
          ]
        }
      ]
    },
    {
      "cell_type": "code",
      "source": [
        "# Visualize accuracy scores\n",
        "models = ['Logistic Regression', 'Gaussian NB', 'MLP']\n",
        "accuracies = [\n",
        "    [accuracy, precision, recall, f1],  # Logistic Regression accuracies\n",
        "    [accuracy1, precision1, recall1, f11],  # Gaussian NB accuracies\n",
        "    [accuracy2, precision2, recall2, f12]   # MLP accuracies\n",
        "]\n",
        "import matplotlib.pyplot as plt\n",
        "plt.boxplot(accuracies, labels=models)\n",
        "plt.xlabel('Models')\n",
        "plt.ylabel('Accuracy')\n",
        "plt.title('Metrics Comparison of Models')\n",
        "# Display the plot\n",
        "plt.show()"
      ],
      "metadata": {
        "colab": {
          "base_uri": "https://localhost:8080/",
          "height": 472
        },
        "id": "_MHofBYpWVMe",
        "outputId": "b10f443b-acbc-4292-9e19-836179fadfe9"
      },
      "execution_count": 58,
      "outputs": [
        {
          "output_type": "display_data",
          "data": {
            "text/plain": [
              "<Figure size 640x480 with 1 Axes>"
            ],
            "image/png": "[encoded data removed]"
          },
          "metadata": {}
        }
      ]
    },
    {
      "cell_type": "markdown",
      "metadata": {
        "id": "Bp-neFagD-FF"
      },
      "source": [
        "### Features contribution in the model"
      ]
    },
    {
      "cell_type": "code",
      "execution_count": 59,
      "metadata": {
        "colab": {
          "base_uri": "https://localhost:8080/"
        },
        "id": "4v3hefT0EA5I",
        "outputId": "672ca04e-219b-4b78-c8fd-07048f2dda22"
      },
      "outputs": [
        {
          "output_type": "stream",
          "name": "stdout",
          "text": [
            "Features contributing to the model:\n",
            "\n",
            "Class: Benign\n",
            "Means:\n",
            "FLOW_DURATION_MILLISECONDS    3.302206e+06\n",
            "IN_BYTES                      3.523954e+05\n",
            "OUT_BYTES                     1.560487e+05\n",
            "L4_SRC_PORT                   3.142008e+04\n",
            "L4_DST_PORT                   9.772634e+03\n",
            "IN_PKTS                       4.359013e+02\n",
            "OUT_PKTS                      1.627261e+02\n",
            "L7_PROTO                      3.470853e+01\n",
            "PROTOCOL                      1.241186e+01\n",
            "TCP_FLAGS                     8.503149e+00\n",
            "Label                         0.000000e+00\n",
            "dtype: float64\n",
            "Variances:\n",
            "FLOW_DURATION_MILLISECONDS    3.184595e+12\n",
            "IN_BYTES                      1.899075e+12\n",
            "OUT_BYTES                     9.622792e+11\n",
            "L4_SRC_PORT                   4.672006e+08\n",
            "L4_DST_PORT                   2.943218e+08\n",
            "IN_PKTS                       2.328134e+06\n",
            "OUT_PKTS                      1.031465e+06\n",
            "L7_PROTO                      6.365970e+03\n",
            "TCP_FLAGS                     1.432929e+02\n",
            "PROTOCOL                      2.952929e+01\n",
            "Label                         0.000000e+00\n",
            "dtype: float64\n",
            "\n",
            "Class: DDoS\n",
            "Means:\n",
            "FLOW_DURATION_MILLISECONDS    2.205085e+06\n",
            "L4_SRC_PORT                   4.662827e+04\n",
            "OUT_BYTES                     7.949629e+02\n",
            "IN_BYTES                      7.145140e+02\n",
            "L4_DST_PORT                   1.012397e+02\n",
            "TCP_FLAGS                     2.672186e+01\n",
            "L7_PROTO                      6.857700e+00\n",
            "PROTOCOL                      5.905788e+00\n",
            "IN_PKTS                       5.450442e+00\n",
            "OUT_PKTS                      3.376339e+00\n",
            "Label                         1.000000e+00\n",
            "dtype: float64\n",
            "Variances:\n",
            "FLOW_DURATION_MILLISECONDS    4.280643e+12\n",
            "L4_SRC_PORT                   1.196052e+08\n",
            "OUT_BYTES                     2.184346e+06\n",
            "IN_BYTES                      1.003153e+06\n",
            "L4_DST_PORT                   8.917222e+05\n",
            "IN_PKTS                       4.666470e+01\n",
            "TCP_FLAGS                     3.022724e+01\n",
            "OUT_PKTS                      4.739022e+00\n",
            "L7_PROTO                      9.765980e-01\n",
            "PROTOCOL                      5.447383e-01\n",
            "Label                         0.000000e+00\n",
            "dtype: float64\n",
            "\n",
            "Class: DoS\n",
            "Means:\n",
            "FLOW_DURATION_MILLISECONDS    2.203857e+06\n",
            "L4_SRC_PORT                   4.658687e+04\n",
            "OUT_BYTES                     7.932805e+02\n",
            "IN_BYTES                      7.114719e+02\n",
            "L4_DST_PORT                   9.955627e+01\n",
            "TCP_FLAGS                     2.670289e+01\n",
            "L7_PROTO                      6.855139e+00\n",
            "PROTOCOL                      5.904614e+00\n",
            "IN_PKTS                       5.431991e+00\n",
            "OUT_PKTS                      3.372358e+00\n",
            "Label                         1.000000e+00\n",
            "dtype: float64\n",
            "Variances:\n",
            "FLOW_DURATION_MILLISECONDS    4.281790e+12\n",
            "L4_SRC_PORT                   1.198887e+08\n",
            "OUT_BYTES                     2.203295e+06\n",
            "L4_DST_PORT                   1.164710e+06\n",
            "IN_BYTES                      8.749625e+05\n",
            "IN_PKTS                       4.520643e+01\n",
            "TCP_FLAGS                     3.046885e+01\n",
            "OUT_PKTS                      4.727051e+00\n",
            "L7_PROTO                      9.937003e-01\n",
            "PROTOCOL                      5.574909e-01\n",
            "Label                         0.000000e+00\n",
            "dtype: float64\n",
            "\n",
            "Class: Reconnaissance\n",
            "Means:\n",
            "FLOW_DURATION_MILLISECONDS    3.776822e+06\n",
            "L4_SRC_PORT                   4.699137e+04\n",
            "L4_DST_PORT                   9.816944e+03\n",
            "IN_BYTES                      1.091552e+02\n",
            "OUT_BYTES                     9.960597e+01\n",
            "TCP_FLAGS                     2.109008e+01\n",
            "L7_PROTO                      8.660372e+00\n",
            "PROTOCOL                      6.580268e+00\n",
            "IN_PKTS                       1.569069e+00\n",
            "OUT_PKTS                      1.257880e+00\n",
            "Label                         1.000000e+00\n",
            "dtype: float64\n",
            "Variances:\n",
            "FLOW_DURATION_MILLISECONDS    1.921455e+12\n",
            "L4_DST_PORT                   2.261051e+08\n",
            "L4_SRC_PORT                   1.334754e+08\n",
            "OUT_BYTES                     3.093266e+05\n",
            "IN_BYTES                      1.240508e+05\n",
            "L7_PROTO                      1.343678e+03\n",
            "TCP_FLAGS                     6.021709e+01\n",
            "IN_PKTS                       7.474004e+00\n",
            "PROTOCOL                      6.237930e+00\n",
            "OUT_PKTS                      1.503647e+00\n",
            "Label                         0.000000e+00\n",
            "dtype: float64\n",
            "\n",
            "Class: Theft\n",
            "Means:\n",
            "FLOW_DURATION_MILLISECONDS    4.167291e+06\n",
            "OUT_BYTES                     8.501195e+05\n",
            "IN_BYTES                      3.308162e+05\n",
            "L4_SRC_PORT                   3.786915e+04\n",
            "L4_DST_PORT                   3.253881e+03\n",
            "OUT_PKTS                      5.699181e+01\n",
            "IN_PKTS                       5.544211e+01\n",
            "TCP_FLAGS                     2.027251e+01\n",
            "L7_PROTO                      1.778538e+01\n",
            "PROTOCOL                      5.201754e+00\n",
            "Label                         1.000000e+00\n",
            "dtype: float64\n",
            "Variances:\n",
            "OUT_BYTES                     1.660513e+14\n",
            "IN_BYTES                      6.240172e+13\n",
            "FLOW_DURATION_MILLISECONDS    4.277930e+11\n",
            "L4_SRC_PORT                   3.351199e+08\n",
            "L4_DST_PORT                   3.069360e+07\n",
            "IN_PKTS                       9.589648e+05\n",
            "OUT_PKTS                      9.429524e+05\n",
            "L7_PROTO                      1.187344e+03\n",
            "TCP_FLAGS                     8.801346e+01\n",
            "PROTOCOL                      3.355995e+00\n",
            "Label                         0.000000e+00\n",
            "dtype: float64\n"
          ]
        }
      ],
      "source": [
        "print(\"Features contributing to the model:\")\n",
        "for i, class_label in enumerate(model.classes_):\n",
        "    print(f\"\\nClass: {class_label}\")\n",
        "    print(\"Means:\")\n",
        "    class_means = x_train[y_train == class_label].mean().sort_values(ascending=False)\n",
        "    print(class_means)  # Mean for each feature in this class\n",
        "    print(\"Variances:\")\n",
        "    class_variances = x_train[y_train == class_label].var().sort_values(ascending=False)\n",
        "    print(class_variances)  # Variance for each feature in this class"
      ]
    },
    {
      "cell_type": "markdown",
      "metadata": {
        "id": "dSksfZ2mEDai"
      },
      "source": [
        "### Ablation Analysis"
      ]
    },
    {
      "cell_type": "code",
      "execution_count": 60,
      "metadata": {
        "colab": {
          "base_uri": "https://localhost:8080/"
        },
        "id": "pNhzV_NAD4WT",
        "outputId": "9487b872-00c9-47ef-8fe3-ef9a06055f49"
      },
      "outputs": [
        {
          "output_type": "stream",
          "name": "stderr",
          "text": [
            "/usr/local/lib/python3.10/dist-packages/sklearn/linear_model/_logistic.py:458: ConvergenceWarning: lbfgs failed to converge (status=1):\n",
            "STOP: TOTAL NO. of ITERATIONS REACHED LIMIT.\n",
            "\n",
            "Increase the number of iterations (max_iter) or scale the data as shown in:\n",
            "    https://scikit-learn.org/stable/modules/preprocessing.html\n",
            "Please also refer to the documentation for alternative solver options:\n",
            "    https://scikit-learn.org/stable/modules/linear_model.html#logistic-regression\n",
            "  n_iter_i = _check_optimize_result(\n",
            "/usr/local/lib/python3.10/dist-packages/sklearn/linear_model/_logistic.py:458: ConvergenceWarning: lbfgs failed to converge (status=1):\n",
            "STOP: TOTAL NO. of ITERATIONS REACHED LIMIT.\n",
            "\n",
            "Increase the number of iterations (max_iter) or scale the data as shown in:\n",
            "    https://scikit-learn.org/stable/modules/preprocessing.html\n",
            "Please also refer to the documentation for alternative solver options:\n",
            "    https://scikit-learn.org/stable/modules/linear_model.html#logistic-regression\n",
            "  n_iter_i = _check_optimize_result(\n",
            "/usr/local/lib/python3.10/dist-packages/sklearn/linear_model/_logistic.py:458: ConvergenceWarning: lbfgs failed to converge (status=1):\n",
            "STOP: TOTAL NO. of ITERATIONS REACHED LIMIT.\n",
            "\n",
            "Increase the number of iterations (max_iter) or scale the data as shown in:\n",
            "    https://scikit-learn.org/stable/modules/preprocessing.html\n",
            "Please also refer to the documentation for alternative solver options:\n",
            "    https://scikit-learn.org/stable/modules/linear_model.html#logistic-regression\n",
            "  n_iter_i = _check_optimize_result(\n",
            "/usr/local/lib/python3.10/dist-packages/sklearn/linear_model/_logistic.py:458: ConvergenceWarning: lbfgs failed to converge (status=1):\n",
            "STOP: TOTAL NO. of ITERATIONS REACHED LIMIT.\n",
            "\n",
            "Increase the number of iterations (max_iter) or scale the data as shown in:\n",
            "    https://scikit-learn.org/stable/modules/preprocessing.html\n",
            "Please also refer to the documentation for alternative solver options:\n",
            "    https://scikit-learn.org/stable/modules/linear_model.html#logistic-regression\n",
            "  n_iter_i = _check_optimize_result(\n",
            "/usr/local/lib/python3.10/dist-packages/sklearn/linear_model/_logistic.py:458: ConvergenceWarning: lbfgs failed to converge (status=1):\n",
            "STOP: TOTAL NO. of ITERATIONS REACHED LIMIT.\n",
            "\n",
            "Increase the number of iterations (max_iter) or scale the data as shown in:\n",
            "    https://scikit-learn.org/stable/modules/preprocessing.html\n",
            "Please also refer to the documentation for alternative solver options:\n",
            "    https://scikit-learn.org/stable/modules/linear_model.html#logistic-regression\n",
            "  n_iter_i = _check_optimize_result(\n",
            "/usr/local/lib/python3.10/dist-packages/sklearn/linear_model/_logistic.py:458: ConvergenceWarning: lbfgs failed to converge (status=1):\n",
            "STOP: TOTAL NO. of ITERATIONS REACHED LIMIT.\n",
            "\n",
            "Increase the number of iterations (max_iter) or scale the data as shown in:\n",
            "    https://scikit-learn.org/stable/modules/preprocessing.html\n",
            "Please also refer to the documentation for alternative solver options:\n",
            "    https://scikit-learn.org/stable/modules/linear_model.html#logistic-regression\n",
            "  n_iter_i = _check_optimize_result(\n",
            "/usr/local/lib/python3.10/dist-packages/sklearn/linear_model/_logistic.py:458: ConvergenceWarning: lbfgs failed to converge (status=1):\n",
            "STOP: TOTAL NO. of ITERATIONS REACHED LIMIT.\n",
            "\n",
            "Increase the number of iterations (max_iter) or scale the data as shown in:\n",
            "    https://scikit-learn.org/stable/modules/preprocessing.html\n",
            "Please also refer to the documentation for alternative solver options:\n",
            "    https://scikit-learn.org/stable/modules/linear_model.html#logistic-regression\n",
            "  n_iter_i = _check_optimize_result(\n",
            "/usr/local/lib/python3.10/dist-packages/sklearn/linear_model/_logistic.py:458: ConvergenceWarning: lbfgs failed to converge (status=1):\n",
            "STOP: TOTAL NO. of ITERATIONS REACHED LIMIT.\n",
            "\n",
            "Increase the number of iterations (max_iter) or scale the data as shown in:\n",
            "    https://scikit-learn.org/stable/modules/preprocessing.html\n",
            "Please also refer to the documentation for alternative solver options:\n",
            "    https://scikit-learn.org/stable/modules/linear_model.html#logistic-regression\n",
            "  n_iter_i = _check_optimize_result(\n",
            "/usr/local/lib/python3.10/dist-packages/sklearn/linear_model/_logistic.py:458: ConvergenceWarning: lbfgs failed to converge (status=1):\n",
            "STOP: TOTAL NO. of ITERATIONS REACHED LIMIT.\n",
            "\n",
            "Increase the number of iterations (max_iter) or scale the data as shown in:\n",
            "    https://scikit-learn.org/stable/modules/preprocessing.html\n",
            "Please also refer to the documentation for alternative solver options:\n",
            "    https://scikit-learn.org/stable/modules/linear_model.html#logistic-regression\n",
            "  n_iter_i = _check_optimize_result(\n",
            "/usr/local/lib/python3.10/dist-packages/sklearn/linear_model/_logistic.py:458: ConvergenceWarning: lbfgs failed to converge (status=1):\n",
            "STOP: TOTAL NO. of ITERATIONS REACHED LIMIT.\n",
            "\n",
            "Increase the number of iterations (max_iter) or scale the data as shown in:\n",
            "    https://scikit-learn.org/stable/modules/preprocessing.html\n",
            "Please also refer to the documentation for alternative solver options:\n",
            "    https://scikit-learn.org/stable/modules/linear_model.html#logistic-regression\n",
            "  n_iter_i = _check_optimize_result(\n"
          ]
        },
        {
          "output_type": "stream",
          "name": "stdout",
          "text": [
            "Ablation Analysis Results:\n",
            "               Feature Removed  Accuracy Score\n",
            "0                  L4_SRC_PORT        0.757774\n",
            "1                  L4_DST_PORT        0.786019\n",
            "2                     PROTOCOL        0.786736\n",
            "3                     L7_PROTO        0.788919\n",
            "4                     IN_BYTES        0.786952\n",
            "5                    OUT_BYTES        0.786052\n",
            "6                      IN_PKTS        0.785319\n",
            "7                     OUT_PKTS        0.794301\n",
            "8                    TCP_FLAGS        0.785286\n",
            "9   FLOW_DURATION_MILLISECONDS        0.809048\n",
            "10                       Label        0.797617\n",
            "Reduced Model Accuracy Range: 0.7577737043826029 - 0.8090484919180136\n"
          ]
        },
        {
          "output_type": "stream",
          "name": "stderr",
          "text": [
            "/usr/local/lib/python3.10/dist-packages/sklearn/linear_model/_logistic.py:458: ConvergenceWarning: lbfgs failed to converge (status=1):\n",
            "STOP: TOTAL NO. of ITERATIONS REACHED LIMIT.\n",
            "\n",
            "Increase the number of iterations (max_iter) or scale the data as shown in:\n",
            "    https://scikit-learn.org/stable/modules/preprocessing.html\n",
            "Please also refer to the documentation for alternative solver options:\n",
            "    https://scikit-learn.org/stable/modules/linear_model.html#logistic-regression\n",
            "  n_iter_i = _check_optimize_result(\n"
          ]
        }
      ],
      "source": [
        "# Perform ablation analysis\n",
        "removed_features = []\n",
        "scores = []\n",
        "\n",
        "for feature in X.columns:\n",
        "    # Remove the current feature\n",
        "    reduced_features = X.drop(feature, axis=1)\n",
        "\n",
        "    x_train, x_test, y_train, y_test = train_test_split(reduced_features, y, test_size=0.1)\n",
        "\n",
        "    # Train a new model without the feature\n",
        "    model = LogisticRegression(random_state=0)\n",
        "    model.fit(x_train, y_train)\n",
        "\n",
        "    # Evaluate the model without the feature\n",
        "    score = accuracy_score(y_test, model.predict(x_test))\n",
        "    scores.append(score)\n",
        "\n",
        "    # Store the removed feature\n",
        "    removed_features.append(feature)\n",
        "\n",
        "# Create a dataframe with results\n",
        "results_df = pd.DataFrame({\"Feature Removed\": removed_features, \"Accuracy Score\": scores})\n",
        "\n",
        "# Print the results\n",
        "print(\"Ablation Analysis Results:\")\n",
        "print(results_df.to_string())\n",
        "\n",
        "# Compare the original and reduced model performance\n",
        "print(\"Reduced Model Accuracy Range:\", min(scores), \"-\", max(scores))"
      ]
    },
    {
      "cell_type": "code",
      "execution_count": 61,
      "metadata": {
        "colab": {
          "base_uri": "https://localhost:8080/",
          "height": 607
        },
        "id": "7mUZDRPQEv61",
        "outputId": "3686440a-7ecd-4ab5-b3fa-d9b6cfcb2d2d"
      },
      "outputs": [
        {
          "output_type": "display_data",
          "data": {
            "text/plain": [
              "<Figure size 1000x600 with 1 Axes>"
            ],
            "image/png": "[encoded data removed]"
          },
          "metadata": {}
        }
      ],
      "source": [
        "# Prepare data\n",
        "features = results_df[\"Feature Removed\"]\n",
        "scores = results_df[\"Accuracy Score\"]\n",
        "\n",
        "# Create the plot\n",
        "plt.figure(figsize=(10, 6))\n",
        "plt.bar(features, scores)\n",
        "\n",
        "# Add labels and title\n",
        "plt.xlabel(\"Features Removed\", fontsize=14)\n",
        "plt.ylabel(\"Accuracy Score\", fontsize=14)\n",
        "plt.title(\"Ablation Analysis for Logistic Regression on NF_BOT_IOT\", fontsize=16)\n",
        "\n",
        "# Rotate x-axis labels for better readability\n",
        "plt.xticks(rotation=90)\n",
        "\n",
        "# Show the plot\n",
        "plt.tight_layout()\n",
        "plt.show()"
      ]
    },
    {
      "cell_type": "markdown",
      "metadata": {
        "id": "LJ2ATkVCO5a1"
      },
      "source": [
        "## With Preprocessing"
      ]
    },
    {
      "cell_type": "code",
      "execution_count": 62,
      "metadata": {
        "colab": {
          "base_uri": "https://localhost:8080/"
        },
        "id": "YUHSLKaKaFmn",
        "outputId": "d5a7b602-cb8b-4eb2-95ad-c239e28b45ff"
      },
      "outputs": [
        {
          "output_type": "stream",
          "name": "stdout",
          "text": [
            "Data Shape: (600100, 14)\n"
          ]
        }
      ],
      "source": [
        "print(\"Data Shape:\", data.shape)\n",
        "\n",
        "def check_null(data):\n",
        "    for i in data.isnull().sum():\n",
        "        if data.isnull().sum()[i]!=0:\n",
        "            return print(\"Data contains Null values.\")\n",
        "    return print(\"Data is Clean of Null values.\")\n",
        "\n",
        "\n",
        "def check_NA(data):\n",
        "    for i in data.isna().sum():\n",
        "        if data.isna().sum()[i]!=0:\n",
        "            return print(\"Data contains Null.\")\n",
        "    return print(\"Data is Clean of NA.\")"
      ]
    },
    {
      "cell_type": "code",
      "execution_count": 63,
      "metadata": {
        "colab": {
          "base_uri": "https://localhost:8080/"
        },
        "id": "SBzyLVx0aU2r",
        "outputId": "68063745-e200-4ae0-ba02-1bf4b644094d"
      },
      "outputs": [
        {
          "output_type": "stream",
          "name": "stdout",
          "text": [
            "Data is Clean of Null values.\n",
            "Data is Clean of NA.\n"
          ]
        }
      ],
      "source": [
        "check_null(data)\n",
        "check_NA(data)"
      ]
    },
    {
      "cell_type": "code",
      "execution_count": 64,
      "metadata": {
        "colab": {
          "base_uri": "https://localhost:8080/"
        },
        "id": "ROhNC60CQWbT",
        "outputId": "fb930ced-7260-4141-a8b8-1fa7cd65120a"
      },
      "outputs": [
        {
          "output_type": "stream",
          "name": "stdout",
          "text": [
            "0 fully duplicate rows to remove\n"
          ]
        },
        {
          "output_type": "execute_result",
          "data": {
            "text/plain": [
              "(600100, 14)"
            ]
          },
          "metadata": {},
          "execution_count": 64
        }
      ],
      "source": [
        "print(data.duplicated().sum(), \"fully duplicate rows to remove\")\n",
        "data.drop_duplicates(inplace=True)\n",
        "data.reset_index(inplace=True, drop=True)\n",
        "data.shape"
      ]
    },
    {
      "cell_type": "code",
      "execution_count": 65,
      "metadata": {
        "id": "BcqQZkDuO5a2",
        "colab": {
          "base_uri": "https://localhost:8080/",
          "height": 206
        },
        "outputId": "10a74e1d-96da-46fe-cdf0-4349e9f1ce41"
      },
      "outputs": [
        {
          "output_type": "execute_result",
          "data": {
            "text/plain": [
              "   PROTOCOL  L7_PROTO   IN_BYTES  OUT_BYTES  IN_PKTS  OUT_PKTS  TCP_FLAGS  \\\n",
              "0        17     5.212         71        126        1         1          0   \n",
              "1         6     0.000  217753000     199100     4521      4049         24   \n",
              "2        17     0.000    8508021    8918372     9086      9086          0   \n",
              "3         6     7.000    8442138    9013406     9086      9086          0   \n",
              "4         6     7.000    8374706          0     9086         0          0   \n",
              "\n",
              "   FLOW_DURATION_MILLISECONDS  Label  \n",
              "0                     4294966      0  \n",
              "1                     4176249      1  \n",
              "2                     4175916      0  \n",
              "3                     4175916      0  \n",
              "4                     4175916      0  "
            ],
            "text/html": [
              "\n",
              "  <div id=\"df-d003b4f5-5ff5-4bbb-b8b8-f24e9091dace\" class=\"colab-df-container\">\n",
              "    <div>\n",
              "<style scoped>\n",
              "    .dataframe tbody tr th:only-of-type {\n",
              "        vertical-align: middle;\n",
              "    }\n",
              "\n",
              "    .dataframe tbody tr th {\n",
              "        vertical-align: top;\n",
              "    }\n",
              "\n",
              "    .dataframe thead th {\n",
              "        text-align: right;\n",
              "    }\n",
              "</style>\n",
              "<table border=\"1\" class=\"dataframe\">\n",
              "  <thead>\n",
              "    <tr style=\"text-align: right;\">\n",
              "      <th></th>\n",
              "      <th>PROTOCOL</th>\n",
              "      <th>L7_PROTO</th>\n",
              "      <th>IN_BYTES</th>\n",
              "      <th>OUT_BYTES</th>\n",
              "      <th>IN_PKTS</th>\n",
              "      <th>OUT_PKTS</th>\n",
              "      <th>TCP_FLAGS</th>\n",
              "      <th>FLOW_DURATION_MILLISECONDS</th>\n",
              "      <th>Label</th>\n",
              "    </tr>\n",
              "  </thead>\n",
              "  <tbody>\n",
              "    <tr>\n",
              "      <th>0</th>\n",
              "      <td>17</td>\n",
              "      <td>5.212</td>\n",
              "      <td>71</td>\n",
              "      <td>126</td>\n",
              "      <td>1</td>\n",
              "      <td>1</td>\n",
              "      <td>0</td>\n",
              "      <td>4294966</td>\n",
              "      <td>0</td>\n",
              "    </tr>\n",
              "    <tr>\n",
              "      <th>1</th>\n",
              "      <td>6</td>\n",
              "      <td>0.000</td>\n",
              "      <td>217753000</td>\n",
              "      <td>199100</td>\n",
              "      <td>4521</td>\n",
              "      <td>4049</td>\n",
              "      <td>24</td>\n",
              "      <td>4176249</td>\n",
              "      <td>1</td>\n",
              "    </tr>\n",
              "    <tr>\n",
              "      <th>2</th>\n",
              "      <td>17</td>\n",
              "      <td>0.000</td>\n",
              "      <td>8508021</td>\n",
              "      <td>8918372</td>\n",
              "      <td>9086</td>\n",
              "      <td>9086</td>\n",
              "      <td>0</td>\n",
              "      <td>4175916</td>\n",
              "      <td>0</td>\n",
              "    </tr>\n",
              "    <tr>\n",
              "      <th>3</th>\n",
              "      <td>6</td>\n",
              "      <td>7.000</td>\n",
              "      <td>8442138</td>\n",
              "      <td>9013406</td>\n",
              "      <td>9086</td>\n",
              "      <td>9086</td>\n",
              "      <td>0</td>\n",
              "      <td>4175916</td>\n",
              "      <td>0</td>\n",
              "    </tr>\n",
              "    <tr>\n",
              "      <th>4</th>\n",
              "      <td>6</td>\n",
              "      <td>7.000</td>\n",
              "      <td>8374706</td>\n",
              "      <td>0</td>\n",
              "      <td>9086</td>\n",
              "      <td>0</td>\n",
              "      <td>0</td>\n",
              "      <td>4175916</td>\n",
              "      <td>0</td>\n",
              "    </tr>\n",
              "  </tbody>\n",
              "</table>\n",
              "</div>\n",
              "    <div class=\"colab-df-buttons\">\n",
              "\n",
              "  <div class=\"colab-df-container\">\n",
              "    <button class=\"colab-df-convert\" onclick=\"convertToInteractive('df-d003b4f5-5ff5-4bbb-b8b8-f24e9091dace')\"\n",
              "            title=\"Convert this dataframe to an interactive table.\"\n",
              "            style=\"display:none;\">\n",
              "\n",
              "  <svg xmlns=\"http://www.w3.org/2000/svg\" height=\"24px\" viewBox=\"0 -960 960 960\">\n",
              "    <path d=\"M120-120v-720h720v720H120Zm60-500h600v-160H180v160Zm220 220h160v-160H400v160Zm0 220h160v-160H400v160ZM180-400h160v-160H180v160Zm440 0h160v-160H620v160ZM180-180h160v-160H180v160Zm440 0h160v-160H620v160Z\"/>\n",
              "  </svg>\n",
              "    </button>\n",
              "\n",
              "  <style>\n",
              "    .colab-df-container {\n",
              "      display:flex;\n",
              "      gap: 12px;\n",
              "    }\n",
              "\n",
              "    .colab-df-convert {\n",
              "      background-color: #E8F0FE;\n",
              "      border: none;\n",
              "      border-radius: 50%;\n",
              "      cursor: pointer;\n",
              "      display: none;\n",
              "      fill: #1967D2;\n",
              "      height: 32px;\n",
              "      padding: 0 0 0 0;\n",
              "      width: 32px;\n",
              "    }\n",
              "\n",
              "    .colab-df-convert:hover {\n",
              "      background-color: #E2EBFA;\n",
              "      box-shadow: 0px 1px 2px rgba(60, 64, 67, 0.3), 0px 1px 3px 1px rgba(60, 64, 67, 0.15);\n",
              "      fill: #174EA6;\n",
              "    }\n",
              "\n",
              "    .colab-df-buttons div {\n",
              "      margin-bottom: 4px;\n",
              "    }\n",
              "\n",
              "    [theme=dark] .colab-df-convert {\n",
              "      background-color: #3B4455;\n",
              "      fill: #D2E3FC;\n",
              "    }\n",
              "\n",
              "    [theme=dark] .colab-df-convert:hover {\n",
              "      background-color: #434B5C;\n",
              "      box-shadow: 0px 1px 3px 1px rgba(0, 0, 0, 0.15);\n",
              "      filter: drop-shadow(0px 1px 2px rgba(0, 0, 0, 0.3));\n",
              "      fill: #FFFFFF;\n",
              "    }\n",
              "  </style>\n",
              "\n",
              "    <script>\n",
              "      const buttonEl =\n",
              "        document.querySelector('#df-d003b4f5-5ff5-4bbb-b8b8-f24e9091dace button.colab-df-convert');\n",
              "      buttonEl.style.display =\n",
              "        google.colab.kernel.accessAllowed ? 'block' : 'none';\n",
              "\n",
              "      async function convertToInteractive(key) {\n",
              "        const element = document.querySelector('#df-d003b4f5-5ff5-4bbb-b8b8-f24e9091dace');\n",
              "        const dataTable =\n",
              "          await google.colab.kernel.invokeFunction('convertToInteractive',\n",
              "                                                    [key], {});\n",
              "        if (!dataTable) return;\n",
              "\n",
              "        const docLinkHtml = 'Like what you see? Visit the ' +\n",
              "          '<a target=\"_blank\" href=https://colab.research.google.com/notebooks/data_table.ipynb>data table notebook</a>'\n",
              "          + ' to learn more about interactive tables.';\n",
              "        element.innerHTML = '';\n",
              "        dataTable['output_type'] = 'display_data';\n",
              "        await google.colab.output.renderOutput(dataTable, element);\n",
              "        const docLink = document.createElement('div');\n",
              "        docLink.innerHTML = docLinkHtml;\n",
              "        element.appendChild(docLink);\n",
              "      }\n",
              "    </script>\n",
              "  </div>\n",
              "\n",
              "\n",
              "<div id=\"df-90a293d7-4467-4137-88af-7acc37ca3b6e\">\n",
              "  <button class=\"colab-df-quickchart\" onclick=\"quickchart('df-90a293d7-4467-4137-88af-7acc37ca3b6e')\"\n",
              "            title=\"Suggest charts\"\n",
              "            style=\"display:none;\">\n",
              "\n",
              "<svg xmlns=\"http://www.w3.org/2000/svg\" height=\"24px\"viewBox=\"0 0 24 24\"\n",
              "     width=\"24px\">\n",
              "    <g>\n",
              "        <path d=\"M19 3H5c-1.1 0-2 .9-2 2v14c0 1.1.9 2 2 2h14c1.1 0 2-.9 2-2V5c0-1.1-.9-2-2-2zM9 17H7v-7h2v7zm4 0h-2V7h2v10zm4 0h-2v-4h2v4z\"/>\n",
              "    </g>\n",
              "</svg>\n",
              "  </button>\n",
              "\n",
              "<style>\n",
              "  .colab-df-quickchart {\n",
              "      --bg-color: #E8F0FE;\n",
              "      --fill-color: #1967D2;\n",
              "      --hover-bg-color: #E2EBFA;\n",
              "      --hover-fill-color: #174EA6;\n",
              "      --disabled-fill-color: #AAA;\n",
              "      --disabled-bg-color: #DDD;\n",
              "  }\n",
              "\n",
              "  [theme=dark] .colab-df-quickchart {\n",
              "      --bg-color: #3B4455;\n",
              "      --fill-color: #D2E3FC;\n",
              "      --hover-bg-color: #434B5C;\n",
              "      --hover-fill-color: #FFFFFF;\n",
              "      --disabled-bg-color: #3B4455;\n",
              "      --disabled-fill-color: #666;\n",
              "  }\n",
              "\n",
              "  .colab-df-quickchart {\n",
              "    background-color: var(--bg-color);\n",
              "    border: none;\n",
              "    border-radius: 50%;\n",
              "    cursor: pointer;\n",
              "    display: none;\n",
              "    fill: var(--fill-color);\n",
              "    height: 32px;\n",
              "    padding: 0;\n",
              "    width: 32px;\n",
              "  }\n",
              "\n",
              "  .colab-df-quickchart:hover {\n",
              "    background-color: var(--hover-bg-color);\n",
              "    box-shadow: 0 1px 2px rgba(60, 64, 67, 0.3), 0 1px 3px 1px rgba(60, 64, 67, 0.15);\n",
              "    fill: var(--button-hover-fill-color);\n",
              "  }\n",
              "\n",
              "  .colab-df-quickchart-complete:disabled,\n",
              "  .colab-df-quickchart-complete:disabled:hover {\n",
              "    background-color: var(--disabled-bg-color);\n",
              "    fill: var(--disabled-fill-color);\n",
              "    box-shadow: none;\n",
              "  }\n",
              "\n",
              "  .colab-df-spinner {\n",
              "    border: 2px solid var(--fill-color);\n",
              "    border-color: transparent;\n",
              "    border-bottom-color: var(--fill-color);\n",
              "    animation:\n",
              "      spin 1s steps(1) infinite;\n",
              "  }\n",
              "\n",
              "  @keyframes spin {\n",
              "    0% {\n",
              "      border-color: transparent;\n",
              "      border-bottom-color: var(--fill-color);\n",
              "      border-left-color: var(--fill-color);\n",
              "    }\n",
              "    20% {\n",
              "      border-color: transparent;\n",
              "      border-left-color: var(--fill-color);\n",
              "      border-top-color: var(--fill-color);\n",
              "    }\n",
              "    30% {\n",
              "      border-color: transparent;\n",
              "      border-left-color: var(--fill-color);\n",
              "      border-top-color: var(--fill-color);\n",
              "      border-right-color: var(--fill-color);\n",
              "    }\n",
              "    40% {\n",
              "      border-color: transparent;\n",
              "      border-right-color: var(--fill-color);\n",
              "      border-top-color: var(--fill-color);\n",
              "    }\n",
              "    60% {\n",
              "      border-color: transparent;\n",
              "      border-right-color: var(--fill-color);\n",
              "    }\n",
              "    80% {\n",
              "      border-color: transparent;\n",
              "      border-right-color: var(--fill-color);\n",
              "      border-bottom-color: var(--fill-color);\n",
              "    }\n",
              "    90% {\n",
              "      border-color: transparent;\n",
              "      border-bottom-color: var(--fill-color);\n",
              "    }\n",
              "  }\n",
              "</style>\n",
              "\n",
              "  <script>\n",
              "    async function quickchart(key) {\n",
              "      const quickchartButtonEl =\n",
              "        document.querySelector('#' + key + ' button');\n",
              "      quickchartButtonEl.disabled = true;  // To prevent multiple clicks.\n",
              "      quickchartButtonEl.classList.add('colab-df-spinner');\n",
              "      try {\n",
              "        const charts = await google.colab.kernel.invokeFunction(\n",
              "            'suggestCharts', [key], {});\n",
              "      } catch (error) {\n",
              "        console.error('Error during call to suggestCharts:', error);\n",
              "      }\n",
              "      quickchartButtonEl.classList.remove('colab-df-spinner');\n",
              "      quickchartButtonEl.classList.add('colab-df-quickchart-complete');\n",
              "    }\n",
              "    (() => {\n",
              "      let quickchartButtonEl =\n",
              "        document.querySelector('#df-90a293d7-4467-4137-88af-7acc37ca3b6e button');\n",
              "      quickchartButtonEl.style.display =\n",
              "        google.colab.kernel.accessAllowed ? 'block' : 'none';\n",
              "    })();\n",
              "  </script>\n",
              "</div>\n",
              "\n",
              "    </div>\n",
              "  </div>\n"
            ],
            "application/vnd.google.colaboratory.intrinsic+json": {
              "type": "dataframe",
              "variable_name": "X"
            }
          },
          "metadata": {},
          "execution_count": 65
        }
      ],
      "source": [
        "X = data.drop(['Attack', 'IPV4_SRC_ADDR', 'IPV4_DST_ADDR', 'L4_SRC_PORT', 'L4_DST_PORT'], axis=1)\n",
        "y = data.loc[:, 'Attack']\n",
        "X.head()"
      ]
    },
    {
      "cell_type": "markdown",
      "metadata": {
        "id": "c7IPOatWR-sl"
      },
      "source": [
        "### Model Creation"
      ]
    },
    {
      "cell_type": "code",
      "execution_count": 66,
      "metadata": {
        "id": "xBuagWbnRXPt"
      },
      "outputs": [],
      "source": [
        "x_train, x_test, y_train, y_test = train_test_split(X, y, test_size=0.1, random_state=42)"
      ]
    },
    {
      "cell_type": "markdown",
      "metadata": {
        "id": "ElOzEdlnSDnn"
      },
      "source": [
        "### Normalization"
      ]
    },
    {
      "cell_type": "code",
      "execution_count": 67,
      "metadata": {
        "id": "cLMKOPJRO5a2"
      },
      "outputs": [],
      "source": [
        "from sklearn.preprocessing import StandardScaler\n",
        "\n",
        "sc = StandardScaler()\n",
        "\n",
        "X_train_sc = sc.fit_transform(x_train)\n",
        "X_test_sc = sc.transform(x_test)"
      ]
    },
    {
      "cell_type": "markdown",
      "source": [
        "### Different Model with Evalaution Metrics and Visualization"
      ],
      "metadata": {
        "id": "iW0fl4pNXtaD"
      }
    },
    {
      "cell_type": "code",
      "execution_count": 68,
      "metadata": {
        "id": "u6OebNteO5a3",
        "colab": {
          "base_uri": "https://localhost:8080/",
          "height": 213
        },
        "outputId": "813d3081-f28e-455c-c79c-6217e8e9bb3b"
      },
      "outputs": [
        {
          "output_type": "stream",
          "name": "stderr",
          "text": [
            "/usr/local/lib/python3.10/dist-packages/sklearn/linear_model/_logistic.py:458: ConvergenceWarning: lbfgs failed to converge (status=1):\n",
            "STOP: TOTAL NO. of ITERATIONS REACHED LIMIT.\n",
            "\n",
            "Increase the number of iterations (max_iter) or scale the data as shown in:\n",
            "    https://scikit-learn.org/stable/modules/preprocessing.html\n",
            "Please also refer to the documentation for alternative solver options:\n",
            "    https://scikit-learn.org/stable/modules/linear_model.html#logistic-regression\n",
            "  n_iter_i = _check_optimize_result(\n"
          ]
        },
        {
          "output_type": "execute_result",
          "data": {
            "text/plain": [
              "LogisticRegression(random_state=0)"
            ],
            "text/html": [
              "<style>#sk-container-id-5 {color: black;background-color: white;}#sk-container-id-5 pre{padding: 0;}#sk-container-id-5 div.sk-toggleable {background-color: white;}#sk-container-id-5 label.sk-toggleable__label {cursor: pointer;display: block;width: 100%;margin-bottom: 0;padding: 0.3em;box-sizing: border-box;text-align: center;}#sk-container-id-5 label.sk-toggleable__label-arrow:before {content: \"▸\";float: left;margin-right: 0.25em;color: #696969;}#sk-container-id-5 label.sk-toggleable__label-arrow:hover:before {color: black;}#sk-container-id-5 div.sk-estimator:hover label.sk-toggleable__label-arrow:before {color: black;}#sk-container-id-5 div.sk-toggleable__content {max-height: 0;max-width: 0;overflow: hidden;text-align: left;background-color: #f0f8ff;}#sk-container-id-5 div.sk-toggleable__content pre {margin: 0.2em;color: black;border-radius: 0.25em;background-color: #f0f8ff;}#sk-container-id-5 input.sk-toggleable__control:checked~div.sk-toggleable__content {max-height: 200px;max-width: 100%;overflow: auto;}#sk-container-id-5 input.sk-toggleable__control:checked~label.sk-toggleable__label-arrow:before {content: \"▾\";}#sk-container-id-5 div.sk-estimator input.sk-toggleable__control:checked~label.sk-toggleable__label {background-color: #d4ebff;}#sk-container-id-5 div.sk-label input.sk-toggleable__control:checked~label.sk-toggleable__label {background-color: #d4ebff;}#sk-container-id-5 input.sk-hidden--visually {border: 0;clip: rect(1px 1px 1px 1px);clip: rect(1px, 1px, 1px, 1px);height: 1px;margin: -1px;overflow: hidden;padding: 0;position: absolute;width: 1px;}#sk-container-id-5 div.sk-estimator {font-family: monospace;background-color: #f0f8ff;border: 1px dotted black;border-radius: 0.25em;box-sizing: border-box;margin-bottom: 0.5em;}#sk-container-id-5 div.sk-estimator:hover {background-color: #d4ebff;}#sk-container-id-5 div.sk-parallel-item::after {content: \"\";width: 100%;border-bottom: 1px solid gray;flex-grow: 1;}#sk-container-id-5 div.sk-label:hover label.sk-toggleable__label {background-color: #d4ebff;}#sk-container-id-5 div.sk-serial::before {content: \"\";position: absolute;border-left: 1px solid gray;box-sizing: border-box;top: 0;bottom: 0;left: 50%;z-index: 0;}#sk-container-id-5 div.sk-serial {display: flex;flex-direction: column;align-items: center;background-color: white;padding-right: 0.2em;padding-left: 0.2em;position: relative;}#sk-container-id-5 div.sk-item {position: relative;z-index: 1;}#sk-container-id-5 div.sk-parallel {display: flex;align-items: stretch;justify-content: center;background-color: white;position: relative;}#sk-container-id-5 div.sk-item::before, #sk-container-id-5 div.sk-parallel-item::before {content: \"\";position: absolute;border-left: 1px solid gray;box-sizing: border-box;top: 0;bottom: 0;left: 50%;z-index: -1;}#sk-container-id-5 div.sk-parallel-item {display: flex;flex-direction: column;z-index: 1;position: relative;background-color: white;}#sk-container-id-5 div.sk-parallel-item:first-child::after {align-self: flex-end;width: 50%;}#sk-container-id-5 div.sk-parallel-item:last-child::after {align-self: flex-start;width: 50%;}#sk-container-id-5 div.sk-parallel-item:only-child::after {width: 0;}#sk-container-id-5 div.sk-dashed-wrapped {border: 1px dashed gray;margin: 0 0.4em 0.5em 0.4em;box-sizing: border-box;padding-bottom: 0.4em;background-color: white;}#sk-container-id-5 div.sk-label label {font-family: monospace;font-weight: bold;display: inline-block;line-height: 1.2em;}#sk-container-id-5 div.sk-label-container {text-align: center;}#sk-container-id-5 div.sk-container {/* jupyter's `normalize.less` sets `[hidden] { display: none; }` but bootstrap.min.css set `[hidden] { display: none !important; }` so we also need the `!important` here to be able to override the default hidden behavior on the sphinx rendered scikit-learn.org. See: https://github.com/scikit-learn/scikit-learn/issues/21755 */display: inline-block !important;position: relative;}#sk-container-id-5 div.sk-text-repr-fallback {display: none;}</style><div id=\"sk-container-id-5\" class=\"sk-top-container\"><div class=\"sk-text-repr-fallback\"><pre>LogisticRegression(random_state=0)</pre><b>In a Jupyter environment, please rerun this cell to show the HTML representation or trust the notebook. <br />On GitHub, the HTML representation is unable to render, please try loading this page with nbviewer.org.</b></div><div class=\"sk-container\" hidden><div class=\"sk-item\"><div class=\"sk-estimator sk-toggleable\"><input class=\"sk-toggleable__control sk-hidden--visually\" id=\"sk-estimator-id-5\" type=\"checkbox\" checked><label for=\"sk-estimator-id-5\" class=\"sk-toggleable__label sk-toggleable__label-arrow\">LogisticRegression</label><div class=\"sk-toggleable__content\"><pre>LogisticRegression(random_state=0)</pre></div></div></div></div></div>"
            ]
          },
          "metadata": {},
          "execution_count": 68
        }
      ],
      "source": [
        "model1=LogisticRegression(random_state=0)\n",
        "model1.fit(X_train_sc, y_train)"
      ]
    },
    {
      "cell_type": "code",
      "source": [
        "# Calculate accuracy and confusion matrix\n",
        "conf_matrix = confusion_matrix(model1.predict(X_train_sc), y_train)\n",
        "accuracy = accuracy_score(model1.predict(X_train_sc), y_train)\n",
        "precision = precision_score(model1.predict(X_train_sc), y_train, average='weighted')\n",
        "recall = recall_score(model1.predict(X_train_sc), y_train, average='weighted')\n",
        "f1 = f1_score(model1.predict(X_train_sc), y_train,average='weighted')\n",
        "# Print results\n",
        "print(\"Confusion Matrix:\")\n",
        "print(conf_matrix)\n",
        "print(\"\\nAccuracy:\", accuracy)\n",
        "print(\"Precision:\", precision)\n",
        "print(\"Recall:\", recall)\n",
        "print(\"F1 Score:\", f1)"
      ],
      "metadata": {
        "colab": {
          "base_uri": "https://localhost:8080/"
        },
        "id": "UdDKkr_OX4rz",
        "outputId": "91fd8b52-cb6d-430e-de5f-49f104736b36"
      },
      "execution_count": 69,
      "outputs": [
        {
          "output_type": "stream",
          "name": "stdout",
          "text": [
            "Confusion Matrix:\n",
            "[[ 12521      0      0      0      0]\n",
            " [     0  15457  15463  15889    281]\n",
            " [     0    520    511    429    100]\n",
            " [     0  35191  35174 407197   1343]\n",
            " [     0      0      0      0     14]]\n",
            "\n",
            "Accuracy: 0.8067173989520265\n",
            "Precision: 0.9020989648197751\n",
            "Recall: 0.8067173989520265\n",
            "F1 Score: 0.8508905343359567\n"
          ]
        }
      ]
    },
    {
      "cell_type": "code",
      "source": [
        "# Train the model\n",
        "model1 = GaussianNB().fit(X_train_sc, y_train)\n",
        "# Make predictions\n",
        "y_pred = model1.predict(X_test_sc)"
      ],
      "metadata": {
        "id": "KYPxvCl1YEq2"
      },
      "execution_count": 70,
      "outputs": []
    },
    {
      "cell_type": "code",
      "source": [
        "# Evaluate the model\n",
        "conf_matrix = confusion_matrix(y_test, y_pred)\n",
        "accuracy1 = accuracy_score(y_test, y_pred)\n",
        "precision1 = precision_score(y_test, y_pred, average='weighted')\n",
        "recall1 = recall_score(y_test, y_pred, average='weighted')\n",
        "f11 = f1_score(y_test, y_pred, average='weighted')\n",
        "# Print results\n",
        "print(\"Confusion Matrix:\")\n",
        "print(conf_matrix)\n",
        "print(\"\\nClassification Report:\")\n",
        "print(classification_report(y_test, y_pred))\n",
        "print(\"\\nAccuracy:\", accuracy1)\n",
        "print(\"Precision:\", precision1)\n",
        "print(\"Recall:\", recall1)\n",
        "print(\"F1 Score:\", f11)"
      ],
      "metadata": {
        "colab": {
          "base_uri": "https://localhost:8080/"
        },
        "id": "i-Yq_ijSYJEK",
        "outputId": "8daa3cb7-d0c5-4148-8981-be5a8757cc39"
      },
      "execution_count": 71,
      "outputs": [
        {
          "output_type": "stream",
          "name": "stdout",
          "text": [
            "Confusion Matrix:\n",
            "[[ 1338     0     0     0     0]\n",
            " [    0   127  5054   462    33]\n",
            " [    0   121  5052   474    38]\n",
            " [    0   112  2728 44227    73]\n",
            " [    0     0     0   133    38]]\n",
            "\n",
            "Classification Report:\n",
            "                precision    recall  f1-score   support\n",
            "\n",
            "        Benign       1.00      1.00      1.00      1338\n",
            "          DDoS       0.35      0.02      0.04      5676\n",
            "           DoS       0.39      0.89      0.55      5685\n",
            "Reconnaissance       0.98      0.94      0.96     47140\n",
            "         Theft       0.21      0.22      0.22       171\n",
            "\n",
            "      accuracy                           0.85     60010\n",
            "     macro avg       0.59      0.61      0.55     60010\n",
            "  weighted avg       0.86      0.85      0.83     60010\n",
            "\n",
            "\n",
            "Accuracy: 0.8462256290618231\n",
            "Precision: 0.860546660799757\n",
            "Recall: 0.8462256290618231\n",
            "F1 Score: 0.8302732001066955\n"
          ]
        }
      ]
    },
    {
      "cell_type": "code",
      "source": [
        "# Initialize the classifier with random_state=0\n",
        "mlp1 = MLPClassifier(random_state=0)\n",
        "# Fit the classifier to the training data\n",
        "mlp1.fit(X_train_sc, y_train)"
      ],
      "metadata": {
        "colab": {
          "base_uri": "https://localhost:8080/",
          "height": 74
        },
        "id": "DSWrEIJaYZxV",
        "outputId": "aa082a81-206e-4ef9-a201-e326c0c1576c"
      },
      "execution_count": 72,
      "outputs": [
        {
          "output_type": "execute_result",
          "data": {
            "text/plain": [
              "MLPClassifier(random_state=0)"
            ],
            "text/html": [
              "<style>#sk-container-id-6 {color: black;background-color: white;}#sk-container-id-6 pre{padding: 0;}#sk-container-id-6 div.sk-toggleable {background-color: white;}#sk-container-id-6 label.sk-toggleable__label {cursor: pointer;display: block;width: 100%;margin-bottom: 0;padding: 0.3em;box-sizing: border-box;text-align: center;}#sk-container-id-6 label.sk-toggleable__label-arrow:before {content: \"▸\";float: left;margin-right: 0.25em;color: #696969;}#sk-container-id-6 label.sk-toggleable__label-arrow:hover:before {color: black;}#sk-container-id-6 div.sk-estimator:hover label.sk-toggleable__label-arrow:before {color: black;}#sk-container-id-6 div.sk-toggleable__content {max-height: 0;max-width: 0;overflow: hidden;text-align: left;background-color: #f0f8ff;}#sk-container-id-6 div.sk-toggleable__content pre {margin: 0.2em;color: black;border-radius: 0.25em;background-color: #f0f8ff;}#sk-container-id-6 input.sk-toggleable__control:checked~div.sk-toggleable__content {max-height: 200px;max-width: 100%;overflow: auto;}#sk-container-id-6 input.sk-toggleable__control:checked~label.sk-toggleable__label-arrow:before {content: \"▾\";}#sk-container-id-6 div.sk-estimator input.sk-toggleable__control:checked~label.sk-toggleable__label {background-color: #d4ebff;}#sk-container-id-6 div.sk-label input.sk-toggleable__control:checked~label.sk-toggleable__label {background-color: #d4ebff;}#sk-container-id-6 input.sk-hidden--visually {border: 0;clip: rect(1px 1px 1px 1px);clip: rect(1px, 1px, 1px, 1px);height: 1px;margin: -1px;overflow: hidden;padding: 0;position: absolute;width: 1px;}#sk-container-id-6 div.sk-estimator {font-family: monospace;background-color: #f0f8ff;border: 1px dotted black;border-radius: 0.25em;box-sizing: border-box;margin-bottom: 0.5em;}#sk-container-id-6 div.sk-estimator:hover {background-color: #d4ebff;}#sk-container-id-6 div.sk-parallel-item::after {content: \"\";width: 100%;border-bottom: 1px solid gray;flex-grow: 1;}#sk-container-id-6 div.sk-label:hover label.sk-toggleable__label {background-color: #d4ebff;}#sk-container-id-6 div.sk-serial::before {content: \"\";position: absolute;border-left: 1px solid gray;box-sizing: border-box;top: 0;bottom: 0;left: 50%;z-index: 0;}#sk-container-id-6 div.sk-serial {display: flex;flex-direction: column;align-items: center;background-color: white;padding-right: 0.2em;padding-left: 0.2em;position: relative;}#sk-container-id-6 div.sk-item {position: relative;z-index: 1;}#sk-container-id-6 div.sk-parallel {display: flex;align-items: stretch;justify-content: center;background-color: white;position: relative;}#sk-container-id-6 div.sk-item::before, #sk-container-id-6 div.sk-parallel-item::before {content: \"\";position: absolute;border-left: 1px solid gray;box-sizing: border-box;top: 0;bottom: 0;left: 50%;z-index: -1;}#sk-container-id-6 div.sk-parallel-item {display: flex;flex-direction: column;z-index: 1;position: relative;background-color: white;}#sk-container-id-6 div.sk-parallel-item:first-child::after {align-self: flex-end;width: 50%;}#sk-container-id-6 div.sk-parallel-item:last-child::after {align-self: flex-start;width: 50%;}#sk-container-id-6 div.sk-parallel-item:only-child::after {width: 0;}#sk-container-id-6 div.sk-dashed-wrapped {border: 1px dashed gray;margin: 0 0.4em 0.5em 0.4em;box-sizing: border-box;padding-bottom: 0.4em;background-color: white;}#sk-container-id-6 div.sk-label label {font-family: monospace;font-weight: bold;display: inline-block;line-height: 1.2em;}#sk-container-id-6 div.sk-label-container {text-align: center;}#sk-container-id-6 div.sk-container {/* jupyter's `normalize.less` sets `[hidden] { display: none; }` but bootstrap.min.css set `[hidden] { display: none !important; }` so we also need the `!important` here to be able to override the default hidden behavior on the sphinx rendered scikit-learn.org. See: https://github.com/scikit-learn/scikit-learn/issues/21755 */display: inline-block !important;position: relative;}#sk-container-id-6 div.sk-text-repr-fallback {display: none;}</style><div id=\"sk-container-id-6\" class=\"sk-top-container\"><div class=\"sk-text-repr-fallback\"><pre>MLPClassifier(random_state=0)</pre><b>In a Jupyter environment, please rerun this cell to show the HTML representation or trust the notebook. <br />On GitHub, the HTML representation is unable to render, please try loading this page with nbviewer.org.</b></div><div class=\"sk-container\" hidden><div class=\"sk-item\"><div class=\"sk-estimator sk-toggleable\"><input class=\"sk-toggleable__control sk-hidden--visually\" id=\"sk-estimator-id-6\" type=\"checkbox\" checked><label for=\"sk-estimator-id-6\" class=\"sk-toggleable__label sk-toggleable__label-arrow\">MLPClassifier</label><div class=\"sk-toggleable__content\"><pre>MLPClassifier(random_state=0)</pre></div></div></div></div></div>"
            ]
          },
          "metadata": {},
          "execution_count": 72
        }
      ]
    },
    {
      "cell_type": "code",
      "source": [
        "accuracy2 = accuracy_score(mlp1.predict(X_train_sc), y_train)\n",
        "print(\"Accuracy:\",accuracy2)\n",
        "y_pred = mlp1.predict(X_test_sc)\n",
        "precision2 = precision_score(y_test, y_pred, average='weighted')\n",
        "recall2 = recall_score(y_test, y_pred, average='weighted')\n",
        "f12 = f1_score(y_test, y_pred, average='weighted')\n",
        "print(\"Precision:\", precision2)\n",
        "print(\"Recall:\", recall2)\n",
        "print(\"F1-score:\", f12)"
      ],
      "metadata": {
        "colab": {
          "base_uri": "https://localhost:8080/"
        },
        "id": "k6cTviXKYfET",
        "outputId": "07061779-e172-479e-b6f3-0996e754bdff"
      },
      "execution_count": 73,
      "outputs": [
        {
          "output_type": "stream",
          "name": "stdout",
          "text": [
            "Accuracy: 0.8487104001184987\n"
          ]
        },
        {
          "output_type": "stream",
          "name": "stderr",
          "text": [
            "/usr/local/lib/python3.10/dist-packages/sklearn/metrics/_classification.py:1344: UndefinedMetricWarning: Precision is ill-defined and being set to 0.0 in labels with no predicted samples. Use `zero_division` parameter to control this behavior.\n",
            "  _warn_prf(average, modifier, msg_start, len(result))\n"
          ]
        },
        {
          "output_type": "stream",
          "name": "stdout",
          "text": [
            "Precision: 0.841035429706529\n",
            "Recall: 0.8480919846692218\n",
            "F1-score: 0.8315440193323734\n"
          ]
        }
      ]
    },
    {
      "cell_type": "code",
      "source": [
        "# Visualize accuracy scores\n",
        "models = ['Logistic Regression', 'Gaussian NB', 'MLP']\n",
        "accuracies = [\n",
        "    [accuracy, precision, recall, f1],  # Logistic Regression accuracies\n",
        "    [accuracy1, precision1, recall1, f11],  # Gaussian NB accuracies\n",
        "    [accuracy2, precision2, recall2, f12]   # MLP accuracies\n",
        "]\n",
        "import matplotlib.pyplot as plt\n",
        "plt.boxplot(accuracies, labels=models)\n",
        "plt.xlabel('Models')\n",
        "plt.ylabel('Accuracy')\n",
        "plt.title('Metrics Comparison of Models')\n",
        "# Display the plot\n",
        "plt.show()"
      ],
      "metadata": {
        "colab": {
          "base_uri": "https://localhost:8080/",
          "height": 472
        },
        "id": "QWGlVdSsYfr5",
        "outputId": "0ed24392-551d-4b88-8df3-a3db48d63b06"
      },
      "execution_count": 74,
      "outputs": [
        {
          "output_type": "display_data",
          "data": {
            "text/plain": [
              "<Figure size 640x480 with 1 Axes>"
            ],
            "image/png": "[encoded data removed]"
          },
          "metadata": {}
        }
      ]
    },
    {
      "cell_type": "markdown",
      "metadata": {
        "id": "lRkzUbThG6V0"
      },
      "source": [
        "### Feature Contributing in the model"
      ]
    },
    {
      "cell_type": "code",
      "source": [
        "print(\"Features contributing to the model:\")\n",
        "for i, class_label in enumerate(model1.classes_):\n",
        "    print(f\"\\nClass: {class_label}\")\n",
        "    print(\"Means:\")\n",
        "    class_means = x_train[y_train == class_label].mean().sort_values(ascending=False)\n",
        "    print(class_means)  # Mean for each feature in this class\n",
        "    print(\"Variances:\")\n",
        "    class_variances = x_train[y_train == class_label].var().sort_values(ascending=False)\n",
        "    print(class_variances)  # Variance for each feature in this class"
      ],
      "metadata": {
        "colab": {
          "base_uri": "https://localhost:8080/"
        },
        "id": "ZfnL5Yhecqz5",
        "outputId": "8f42dd61-a0fe-4bca-d45c-72f9df41b355"
      },
      "execution_count": 76,
      "outputs": [
        {
          "output_type": "stream",
          "name": "stdout",
          "text": [
            "Features contributing to the model:\n",
            "\n",
            "Class: Benign\n",
            "Means:\n",
            "FLOW_DURATION_MILLISECONDS    3.292084e+06\n",
            "IN_BYTES                      3.409139e+05\n",
            "OUT_BYTES                     1.538957e+05\n",
            "IN_PKTS                       4.238160e+02\n",
            "OUT_PKTS                      1.604431e+02\n",
            "L7_PROTO                      3.477180e+01\n",
            "PROTOCOL                      1.245116e+01\n",
            "TCP_FLAGS                     8.448207e+00\n",
            "Label                         0.000000e+00\n",
            "dtype: float64\n",
            "Variances:\n",
            "FLOW_DURATION_MILLISECONDS    3.208790e+12\n",
            "IN_BYTES                      1.827320e+12\n",
            "OUT_BYTES                     9.536418e+11\n",
            "IN_PKTS                       2.247128e+06\n",
            "OUT_PKTS                      1.020986e+06\n",
            "L7_PROTO                      6.390270e+03\n",
            "TCP_FLAGS                     1.425679e+02\n",
            "PROTOCOL                      2.944348e+01\n",
            "Label                         0.000000e+00\n",
            "dtype: float64\n",
            "\n",
            "Class: DDoS\n",
            "Means:\n",
            "FLOW_DURATION_MILLISECONDS    2.206822e+06\n",
            "OUT_BYTES                     7.962638e+02\n",
            "IN_BYTES                      7.126944e+02\n",
            "TCP_FLAGS                     2.670906e+01\n",
            "L7_PROTO                      6.856187e+00\n",
            "PROTOCOL                      5.904393e+00\n",
            "IN_PKTS                       5.427865e+00\n",
            "OUT_PKTS                      3.377208e+00\n",
            "Label                         1.000000e+00\n",
            "dtype: float64\n",
            "Variances:\n",
            "FLOW_DURATION_MILLISECONDS    4.281579e+12\n",
            "OUT_BYTES                     2.318819e+06\n",
            "IN_BYTES                      9.477868e+05\n",
            "IN_PKTS                       4.395196e+01\n",
            "TCP_FLAGS                     3.043504e+01\n",
            "OUT_PKTS                      4.786611e+00\n",
            "L7_PROTO                      9.867773e-01\n",
            "PROTOCOL                      5.480152e-01\n",
            "Label                         0.000000e+00\n",
            "dtype: float64\n",
            "\n",
            "Class: DoS\n",
            "Means:\n",
            "FLOW_DURATION_MILLISECONDS    2.206327e+06\n",
            "OUT_BYTES                     7.919343e+02\n",
            "IN_BYTES                      7.093852e+02\n",
            "TCP_FLAGS                     2.671651e+01\n",
            "L7_PROTO                      6.858036e+00\n",
            "PROTOCOL                      5.906663e+00\n",
            "IN_PKTS                       5.419919e+00\n",
            "OUT_PKTS                      3.375147e+00\n",
            "Label                         1.000000e+00\n",
            "dtype: float64\n",
            "Variances:\n",
            "FLOW_DURATION_MILLISECONDS    4.282193e+12\n",
            "OUT_BYTES                     2.086815e+06\n",
            "IN_BYTES                      8.488623e+05\n",
            "IN_PKTS                       4.342681e+01\n",
            "TCP_FLAGS                     3.019140e+01\n",
            "OUT_PKTS                      4.659348e+00\n",
            "L7_PROTO                      9.742862e-01\n",
            "PROTOCOL                      5.474497e-01\n",
            "Label                         0.000000e+00\n",
            "dtype: float64\n",
            "\n",
            "Class: Reconnaissance\n",
            "Means:\n",
            "FLOW_DURATION_MILLISECONDS    3.775976e+06\n",
            "IN_BYTES                      1.091529e+02\n",
            "OUT_BYTES                     9.981971e+01\n",
            "TCP_FLAGS                     2.108515e+01\n",
            "L7_PROTO                      8.689988e+00\n",
            "PROTOCOL                      6.583238e+00\n",
            "IN_PKTS                       1.570424e+00\n",
            "OUT_PKTS                      1.258392e+00\n",
            "Label                         1.000000e+00\n",
            "dtype: float64\n",
            "Variances:\n",
            "FLOW_DURATION_MILLISECONDS    1.924342e+12\n",
            "OUT_BYTES                     3.150974e+05\n",
            "IN_BYTES                      1.255230e+05\n",
            "L7_PROTO                      1.349566e+03\n",
            "TCP_FLAGS                     6.087306e+01\n",
            "IN_PKTS                       7.586532e+00\n",
            "PROTOCOL                      6.268516e+00\n",
            "OUT_PKTS                      1.510950e+00\n",
            "Label                         0.000000e+00\n",
            "dtype: float64\n",
            "\n",
            "Class: Theft\n",
            "Means:\n",
            "FLOW_DURATION_MILLISECONDS    4.167381e+06\n",
            "OUT_BYTES                     1.094795e+06\n",
            "IN_BYTES                      3.045046e+05\n",
            "OUT_PKTS                      1.171640e+02\n",
            "IN_PKTS                       6.683890e+01\n",
            "TCP_FLAGS                     2.041427e+01\n",
            "L7_PROTO                      1.847583e+01\n",
            "PROTOCOL                      5.211738e+00\n",
            "Label                         1.000000e+00\n",
            "dtype: float64\n",
            "Variances:\n",
            "OUT_BYTES                     2.240048e+14\n",
            "IN_BYTES                      6.048848e+13\n",
            "FLOW_DURATION_MILLISECONDS    4.272438e+11\n",
            "OUT_PKTS                      4.254398e+06\n",
            "IN_PKTS                       1.072684e+06\n",
            "L7_PROTO                      1.215950e+03\n",
            "TCP_FLAGS                     8.824970e+01\n",
            "PROTOCOL                      3.321866e+00\n",
            "Label                         0.000000e+00\n",
            "dtype: float64\n"
          ]
        }
      ]
    },
    {
      "cell_type": "markdown",
      "metadata": {
        "id": "pbhg6QwlG-jA"
      },
      "source": [
        "### Ablation Analysis"
      ]
    },
    {
      "cell_type": "code",
      "execution_count": 77,
      "metadata": {
        "id": "Ku179o6KH5gw",
        "colab": {
          "base_uri": "https://localhost:8080/"
        },
        "outputId": "e0118cd4-96a9-4fa1-c610-d0d3266096bd"
      },
      "outputs": [
        {
          "output_type": "stream",
          "name": "stderr",
          "text": [
            "/usr/local/lib/python3.10/dist-packages/sklearn/linear_model/_logistic.py:458: ConvergenceWarning: lbfgs failed to converge (status=1):\n",
            "STOP: TOTAL NO. of ITERATIONS REACHED LIMIT.\n",
            "\n",
            "Increase the number of iterations (max_iter) or scale the data as shown in:\n",
            "    https://scikit-learn.org/stable/modules/preprocessing.html\n",
            "Please also refer to the documentation for alternative solver options:\n",
            "    https://scikit-learn.org/stable/modules/linear_model.html#logistic-regression\n",
            "  n_iter_i = _check_optimize_result(\n",
            "/usr/local/lib/python3.10/dist-packages/sklearn/linear_model/_logistic.py:458: ConvergenceWarning: lbfgs failed to converge (status=1):\n",
            "STOP: TOTAL NO. of ITERATIONS REACHED LIMIT.\n",
            "\n",
            "Increase the number of iterations (max_iter) or scale the data as shown in:\n",
            "    https://scikit-learn.org/stable/modules/preprocessing.html\n",
            "Please also refer to the documentation for alternative solver options:\n",
            "    https://scikit-learn.org/stable/modules/linear_model.html#logistic-regression\n",
            "  n_iter_i = _check_optimize_result(\n",
            "/usr/local/lib/python3.10/dist-packages/sklearn/linear_model/_logistic.py:458: ConvergenceWarning: lbfgs failed to converge (status=1):\n",
            "STOP: TOTAL NO. of ITERATIONS REACHED LIMIT.\n",
            "\n",
            "Increase the number of iterations (max_iter) or scale the data as shown in:\n",
            "    https://scikit-learn.org/stable/modules/preprocessing.html\n",
            "Please also refer to the documentation for alternative solver options:\n",
            "    https://scikit-learn.org/stable/modules/linear_model.html#logistic-regression\n",
            "  n_iter_i = _check_optimize_result(\n",
            "/usr/local/lib/python3.10/dist-packages/sklearn/linear_model/_logistic.py:458: ConvergenceWarning: lbfgs failed to converge (status=1):\n",
            "STOP: TOTAL NO. of ITERATIONS REACHED LIMIT.\n",
            "\n",
            "Increase the number of iterations (max_iter) or scale the data as shown in:\n",
            "    https://scikit-learn.org/stable/modules/preprocessing.html\n",
            "Please also refer to the documentation for alternative solver options:\n",
            "    https://scikit-learn.org/stable/modules/linear_model.html#logistic-regression\n",
            "  n_iter_i = _check_optimize_result(\n",
            "/usr/local/lib/python3.10/dist-packages/sklearn/linear_model/_logistic.py:458: ConvergenceWarning: lbfgs failed to converge (status=1):\n",
            "STOP: TOTAL NO. of ITERATIONS REACHED LIMIT.\n",
            "\n",
            "Increase the number of iterations (max_iter) or scale the data as shown in:\n",
            "    https://scikit-learn.org/stable/modules/preprocessing.html\n",
            "Please also refer to the documentation for alternative solver options:\n",
            "    https://scikit-learn.org/stable/modules/linear_model.html#logistic-regression\n",
            "  n_iter_i = _check_optimize_result(\n",
            "/usr/local/lib/python3.10/dist-packages/sklearn/linear_model/_logistic.py:458: ConvergenceWarning: lbfgs failed to converge (status=1):\n",
            "STOP: TOTAL NO. of ITERATIONS REACHED LIMIT.\n",
            "\n",
            "Increase the number of iterations (max_iter) or scale the data as shown in:\n",
            "    https://scikit-learn.org/stable/modules/preprocessing.html\n",
            "Please also refer to the documentation for alternative solver options:\n",
            "    https://scikit-learn.org/stable/modules/linear_model.html#logistic-regression\n",
            "  n_iter_i = _check_optimize_result(\n",
            "/usr/local/lib/python3.10/dist-packages/sklearn/linear_model/_logistic.py:458: ConvergenceWarning: lbfgs failed to converge (status=1):\n",
            "STOP: TOTAL NO. of ITERATIONS REACHED LIMIT.\n",
            "\n",
            "Increase the number of iterations (max_iter) or scale the data as shown in:\n",
            "    https://scikit-learn.org/stable/modules/preprocessing.html\n",
            "Please also refer to the documentation for alternative solver options:\n",
            "    https://scikit-learn.org/stable/modules/linear_model.html#logistic-regression\n",
            "  n_iter_i = _check_optimize_result(\n",
            "/usr/local/lib/python3.10/dist-packages/sklearn/linear_model/_logistic.py:458: ConvergenceWarning: lbfgs failed to converge (status=1):\n",
            "STOP: TOTAL NO. of ITERATIONS REACHED LIMIT.\n",
            "\n",
            "Increase the number of iterations (max_iter) or scale the data as shown in:\n",
            "    https://scikit-learn.org/stable/modules/preprocessing.html\n",
            "Please also refer to the documentation for alternative solver options:\n",
            "    https://scikit-learn.org/stable/modules/linear_model.html#logistic-regression\n",
            "  n_iter_i = _check_optimize_result(\n"
          ]
        },
        {
          "output_type": "stream",
          "name": "stdout",
          "text": [
            "Ablation Analysis Results:\n",
            "              Feature Removed  Accuracy Score\n",
            "0                    PROTOCOL        0.701866\n",
            "1                    L7_PROTO        0.703083\n",
            "2                    IN_BYTES        0.770938\n",
            "3                   OUT_BYTES        0.715664\n",
            "4                     IN_PKTS        0.702616\n",
            "5                    OUT_PKTS        0.707065\n",
            "6                   TCP_FLAGS        0.701733\n",
            "7  FLOW_DURATION_MILLISECONDS        0.812415\n",
            "8                       Label        0.703683\n",
            "Reduced Model Accuracy Range: 0.7017330444925846 - 0.8124145975670721\n"
          ]
        },
        {
          "output_type": "stream",
          "name": "stderr",
          "text": [
            "/usr/local/lib/python3.10/dist-packages/sklearn/linear_model/_logistic.py:458: ConvergenceWarning: lbfgs failed to converge (status=1):\n",
            "STOP: TOTAL NO. of ITERATIONS REACHED LIMIT.\n",
            "\n",
            "Increase the number of iterations (max_iter) or scale the data as shown in:\n",
            "    https://scikit-learn.org/stable/modules/preprocessing.html\n",
            "Please also refer to the documentation for alternative solver options:\n",
            "    https://scikit-learn.org/stable/modules/linear_model.html#logistic-regression\n",
            "  n_iter_i = _check_optimize_result(\n"
          ]
        }
      ],
      "source": [
        "# Perform ablation analysis\n",
        "removed_features = []\n",
        "scores = []\n",
        "\n",
        "for feature in X.columns:\n",
        "    # Remove the current feature\n",
        "    reduced_features = X.drop(feature, axis=1)\n",
        "\n",
        "    x_train, x_test, y_train, y_test = train_test_split(reduced_features, y, test_size=0.1)\n",
        "\n",
        "    # Train a new model without the feature\n",
        "    model = LogisticRegression(random_state=0)\n",
        "    model.fit(x_train, y_train)\n",
        "\n",
        "    # Evaluate the model without the feature\n",
        "    score = accuracy_score(y_test, model.predict(x_test))\n",
        "    scores.append(score)\n",
        "\n",
        "    # Store the removed feature\n",
        "    removed_features.append(feature)\n",
        "\n",
        "# Create a dataframe with results\n",
        "results_df = pd.DataFrame({\"Feature Removed\": removed_features, \"Accuracy Score\": scores})\n",
        "\n",
        "# Print the results\n",
        "print(\"Ablation Analysis Results:\")\n",
        "print(results_df.to_string())\n",
        "\n",
        "# Compare the original and reduced model performance\n",
        "print(\"Reduced Model Accuracy Range:\", min(scores), \"-\", max(scores))"
      ]
    },
    {
      "cell_type": "code",
      "execution_count": 78,
      "metadata": {
        "id": "N58PKqAuIDku",
        "colab": {
          "base_uri": "https://localhost:8080/",
          "height": 607
        },
        "outputId": "c032a9be-0709-4b04-bd11-dcc754da2061"
      },
      "outputs": [
        {
          "output_type": "display_data",
          "data": {
            "text/plain": [
              "<Figure size 1000x600 with 1 Axes>"
            ],
            "image/png": "[encoded data removed]"
          },
          "metadata": {}
        }
      ],
      "source": [
        "# Prepare data\n",
        "features = results_df[\"Feature Removed\"]\n",
        "scores = results_df[\"Accuracy Score\"]\n",
        "\n",
        "# Create the plot\n",
        "plt.figure(figsize=(10, 6))\n",
        "plt.bar(features, scores)\n",
        "\n",
        "# Add labels and title\n",
        "plt.xlabel(\"Features Removed\", fontsize=14)\n",
        "plt.ylabel(\"Accuracy Score\", fontsize=14)\n",
        "plt.title(\"Ablation Analysis for Logistic Regression on NF_BOT_IOT\", fontsize=16)\n",
        "\n",
        "# Rotate x-axis labels for better readability\n",
        "plt.xticks(rotation=90)\n",
        "\n",
        "# Show the plot\n",
        "plt.tight_layout()\n",
        "plt.show()"
      ]
    }
  ],
  "metadata": {
    "colab": {
      "provenance": []
    },
    "kernelspec": {
      "display_name": "Python 3",
      "language": "python",
      "name": "python3"
    },
    "language_info": {
      "codemirror_mode": {
        "name": "ipython",
        "version": 3
      },
      "file_extension": ".py",
      "mimetype": "text/x-python",
      "name": "python",
      "nbconvert_exporter": "python",
      "pygments_lexer": "ipython3",
      "version": "3.9.16"
    }
  },
  "nbformat": 4,
  "nbformat_minor": 0
}